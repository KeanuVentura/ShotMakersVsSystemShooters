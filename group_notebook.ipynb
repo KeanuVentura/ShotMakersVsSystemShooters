{
 "cells": [
  {
   "cell_type": "code",
   "execution_count": 1,
   "metadata": {},
   "outputs": [],
   "source": [
    "import pandas as pd\n",
    "import numpy as np\n",
    "import matplotlib.pyplot as plt\n",
    "import seaborn as sns\n",
    "import plotly.express as px\n",
    "import plotly.graph_objects as go"
   ]
  },
  {
   "cell_type": "code",
   "execution_count": 12,
   "metadata": {},
   "outputs": [
    {
     "data": {
      "text/html": [
       "<div>\n",
       "<style scoped>\n",
       "    .dataframe tbody tr th:only-of-type {\n",
       "        vertical-align: middle;\n",
       "    }\n",
       "\n",
       "    .dataframe tbody tr th {\n",
       "        vertical-align: top;\n",
       "    }\n",
       "\n",
       "    .dataframe thead th {\n",
       "        text-align: right;\n",
       "    }\n",
       "</style>\n",
       "<table border=\"1\" class=\"dataframe\">\n",
       "  <thead>\n",
       "    <tr style=\"text-align: right;\">\n",
       "      <th></th>\n",
       "      <th>PLAYER</th>\n",
       "      <th>DIFF%</th>\n",
       "    </tr>\n",
       "  </thead>\n",
       "  <tbody>\n",
       "    <tr>\n",
       "      <th>0</th>\n",
       "      <td>Jamal Murray</td>\n",
       "      <td>1.5</td>\n",
       "    </tr>\n",
       "    <tr>\n",
       "      <th>1</th>\n",
       "      <td>Austin Reaves</td>\n",
       "      <td>3.3</td>\n",
       "    </tr>\n",
       "    <tr>\n",
       "      <th>2</th>\n",
       "      <td>Josh Hart</td>\n",
       "      <td>2.1</td>\n",
       "    </tr>\n",
       "    <tr>\n",
       "      <th>3</th>\n",
       "      <td>Dyson Daniels</td>\n",
       "      <td>1.7</td>\n",
       "    </tr>\n",
       "    <tr>\n",
       "      <th>4</th>\n",
       "      <td>De'Aaron Fox</td>\n",
       "      <td>1.6</td>\n",
       "    </tr>\n",
       "    <tr>\n",
       "      <th>...</th>\n",
       "      <td>...</td>\n",
       "      <td>...</td>\n",
       "    </tr>\n",
       "    <tr>\n",
       "      <th>136</th>\n",
       "      <td>Cameron Payne</td>\n",
       "      <td>1.2</td>\n",
       "    </tr>\n",
       "    <tr>\n",
       "      <th>137</th>\n",
       "      <td>Seth Curry</td>\n",
       "      <td>2.5</td>\n",
       "    </tr>\n",
       "    <tr>\n",
       "      <th>138</th>\n",
       "      <td>Blake Wesley</td>\n",
       "      <td>3.8</td>\n",
       "    </tr>\n",
       "    <tr>\n",
       "      <th>139</th>\n",
       "      <td>Caleb Houstan</td>\n",
       "      <td>3.7</td>\n",
       "    </tr>\n",
       "    <tr>\n",
       "      <th>140</th>\n",
       "      <td>Jett Howard</td>\n",
       "      <td>-2.1</td>\n",
       "    </tr>\n",
       "  </tbody>\n",
       "</table>\n",
       "<p>141 rows × 2 columns</p>\n",
       "</div>"
      ],
      "text/plain": [
       "            PLAYER  DIFF%\n",
       "0     Jamal Murray    1.5\n",
       "1    Austin Reaves    3.3\n",
       "2        Josh Hart    2.1\n",
       "3    Dyson Daniels    1.7\n",
       "4     De'Aaron Fox    1.6\n",
       "..             ...    ...\n",
       "136  Cameron Payne    1.2\n",
       "137     Seth Curry    2.5\n",
       "138   Blake Wesley    3.8\n",
       "139  Caleb Houstan    3.7\n",
       "140    Jett Howard   -2.1\n",
       "\n",
       "[141 rows x 2 columns]"
      ]
     },
     "execution_count": 12,
     "metadata": {},
     "output_type": "execute_result"
    }
   ],
   "source": [
    "scoring_df = pd.read_csv('scoring_dataset.csv')\n",
    "defense_diff_df = pd.read_csv('defense_diff_dataset.csv')\n",
    "\n",
    "scoring_columns_to_keep = [\n",
    "    'PLAYER', 'GP', 'MIN', 'PTS', 'DRIVES',\n",
    "    'C&S\\nPTS', 'C&S\\nFG%', \n",
    "    'Pull Up\\nPTS', 'Pull Up\\nFG%', \n",
    "    'eFG%', 'Shot Quality', \n",
    "    'Assisted 2s\\n PTS', 'Unassisted 2s\\n PTS',\n",
    "    'Assisted 3s\\n PTS', 'Unassisted 3s\\n PTS'\n",
    "]\n",
    "\n",
    "defense_diff_columns_to_keep = [\n",
    "    'PLAYER', 'DIFF%'\n",
    "]\n",
    "\n",
    "cleaned_scoring = scoring_df[scoring_columns_to_keep].copy()\n",
    "cleaned_defense_diff = defense_diff_df[defense_diff_columns_to_keep].copy()\n",
    "\n",
    "cleaned_scoring.columns = [\n",
    "    'Player', 'GP', 'MIN', 'PPG', 'Drives',\n",
    "    'C&S PTS', 'C&S FG%',\n",
    "    'PU PTS', 'PU FG%',\n",
    "    'eFG%', 'Shot Quality',\n",
    "    'Assisted 2s', 'Unassisted 2s',\n",
    "    'Assisted 3s', 'Unassisted 3s'\n",
    "]\n",
    "\n",
    "percent_cols = ['C&S FG%', 'eFG%', 'PU FG%']\n",
    "\n",
    "for col in percent_cols:\n",
    "    cleaned_scoring[col] = cleaned_scoring[col].astype(str).str.rstrip('%').astype(float) / 100\n",
    "\n",
    "Unassisted_PTS = cleaned_scoring['Unassisted 2s'] + cleaned_scoring['Unassisted 3s']\n",
    "cleaned_scoring['Unassisted PTS'] = Unassisted_PTS\n",
    "cleaned_scoring['Unassisted%'] = cleaned_scoring['Unassisted PTS'] / cleaned_scoring['PPG']\n",
    "cleaned_scoring['C&S%'] = cleaned_scoring['C&S PTS'] / cleaned_scoring['PPG']\n",
    "cleaned_scoring['Gap'] = cleaned_scoring['eFG%'] - cleaned_scoring['Shot Quality']\n",
    "\n",
    "cleaned_scoring\n",
    "cleaned_defense_diff\n"
   ]
  },
  {
   "cell_type": "code",
   "execution_count": null,
   "metadata": {},
   "outputs": [],
   "source": []
  },
  {
   "cell_type": "code",
   "execution_count": 42,
   "metadata": {},
   "outputs": [
    {
     "data": {
      "application/vnd.plotly.v1+json": {
       "config": {
        "plotlyServerURL": "https://plot.ly"
       },
       "data": [
        {
         "hovertemplate": "<b>%{hovertext}</b><br><br>Shot Quality (Expected eFG%)=%{x}<br>Actual eFG%=%{y}<extra></extra>",
         "hovertext": [
          "Amen Thompson",
          "Andrew Nembhard",
          "Anfernee Simons",
          "Anthony Edwards",
          "Austin Reaves",
          "Bennedict Mathurin",
          "Bilal Coulibaly",
          "Bogdan Bogdanović",
          "Bradley Beal",
          "Brandin Podziemski",
          "Bub Carrington",
          "CJ McCollum",
          "Cade Cunningham",
          "Cason Wallace",
          "Chris Paul",
          "Christian Braun",
          "Coby White",
          "Collin Sexton",
          "D'Angelo Russell",
          "Damian Lillard",
          "Darius Garland",
          "Davion Mitchell",
          "De'Aaron Fox",
          "De'Andre Hunter",
          "DeMar DeRozan",
          "Dennis Schröder",
          "Derrick White",
          "Desmond Bane",
          "Devin Booker",
          "Devin Vassell",
          "Dillon Brooks",
          "Donovan Mitchell",
          "Donte DiVincenzo",
          "Dyson Daniels",
          "Fred VanVleet",
          "Gary Trent Jr.",
          "Gradey Dick",
          "Isaiah Collier",
          "Ja Morant",
          "Jalen Brunson",
          "Jalen Green",
          "Jalen Williams",
          "Jamal Murray",
          "James Harden",
          "Jaylen Brown",
          "Jayson Tatum",
          "Jordan Poole",
          "Josh Giddey",
          "Josh Green",
          "Josh Hart",
          "Jrue Holiday",
          "Kelly Oubre Jr.",
          "Kentavious Caldwell-Pope",
          "Keyonte George",
          "Klay Thompson",
          "Kyrie Irving",
          "Luguentz Dort",
          "Luka Dončić",
          "Malik Beasley",
          "Malik Monk",
          "Max Christie",
          "Max Strus",
          "Mikal Bridges",
          "Nickeil Alexander-Walker",
          "Norman Powell",
          "OG Anunoby",
          "Ochai Agbaji",
          "Payton Pritchard",
          "Quentin Grimes",
          "RJ Barrett",
          "Russell Westbrook",
          "Scoot Henderson",
          "Scottie Barnes",
          "Shaedon Sharpe",
          "Shai Gilgeous-Alexander",
          "Spencer Dinwiddie",
          "Stephen Curry",
          "Stephon Castle",
          "Terry Rozier",
          "Tim Hardaway Jr.",
          "Trae Young",
          "Tyler Herro",
          "Tyrese Haliburton",
          "Tyrese Maxey",
          "Tyus Jones",
          "Zach LaVine"
         ],
         "legendgroup": "",
         "marker": {
          "color": "#636efa",
          "symbol": "circle"
         },
         "mode": "markers",
         "name": "",
         "orientation": "v",
         "showlegend": false,
         "type": "scatter",
         "x": {
          "bdata": "7FG4HoXr4T9SuB6F61HgP1K4HoXrUeA/SOF6FK5H4T+kcD0K16PgP0jhehSuR+E/mpmZmZmZ4T+amZmZmZnhP6RwPQrXo+A/UrgehetR4D9SuB6F61HgP6RwPQrXo+A/UrgehetR4D89CtejcD3iP1K4HoXrUeA/4XoUrkfh4j+amZmZmZnhP1K4HoXrUeA/pHA9Ctej4D9I4XoUrkfhP/YoXI/C9eA/7FG4HoXr4T9SuB6F61HgP0jhehSuR+E/cT0K16Nw3T8AAAAAAADgP0jhehSuR+E/9ihcj8L14D9SuB6F61HgP/YoXI/C9eA/pHA9Ctej4D/2KFyPwvXgP5qZmZmZmeE/mpmZmZmZ4T9SuB6F61HgP/YoXI/C9eA/mpmZmZmZ4T/2KFyPwvXgP/YoXI/C9eA/UrgehetR4D/2KFyPwvXgP/YoXI/C9eA/UrgehetR4D9SuB6F61HgP6RwPQrXo+A/9ihcj8L14D9I4XoUrkfhP5qZmZmZmeE/PQrXo3A94j+PwvUoXI/iP0jhehSuR+E/7FG4HoXr4T9I4XoUrkfhPwAAAAAAAOA/9ihcj8L14D9SuB6F61HgP+xRuB6F6+E/UrgehetR4D/2KFyPwvXgP6RwPQrXo+A/SOF6FK5H4T89CtejcD3iP0jhehSuR+E/mpmZmZmZ4T/2KFyPwvXgP+F6FK5H4eI/hetRuB6F4z/2KFyPwvXgP+xRuB6F6+E/PQrXo3A94j/sUbgehevhP0jhehSuR+E/pHA9Ctej4D+amZmZmZnhP6RwPQrXo+A/UrgehetR4D+kcD0K16PgP+xRuB6F6+E/SOF6FK5H4T9I4XoUrkfhP1K4HoXrUeA/pHA9Ctej4D+kcD0K16PgP0jhehSuR+E/pHA9Ctej4D89CtejcD3iPw==",
          "dtype": "f8"
         },
         "xaxis": "x",
         "y": {
          "bdata": "ZmZmZmZm4j/+1HjpJjHgP3npJjEIrOA/Gy/dJAaB4T+YbhKDwMrhP1CNl24Sg+A/aZHtfD813j9KDAIrhxbhPxODwMqhReI/yXa+nxov4T9aZDvfT43fP/YoXI/C9eA/eekmMQis4D+amZmZmZnhPxsv3SQGgeE/fT81XrpJ5D+amZmZmZnhP8ZLN4lBYOE/Di2yne+n3j8bL90kBoHhP5ZDi2zn++E/bef7qfHS4T+mm8QgsHLgP7x0kxgEVuI/fT81XrpJ4D+28/3UeOneP4/C9Shcj+I/FK5H4XoU4j/NzMzMzMzgP6AaL90kBuE/dJMYBFYO4T/LoUW28/3gP5MYBFYOLeI/9P3UeOkm4T+28/3UeOneP5MYBFYOLeI/rBxaZDvf3z/GSzeJQWDdP1TjpZvEIOA/bxKDwMqh4T8pXI/C9SjgP8l2vp8aL+E/xks3iUFg4T/VeOkmMQjgP3sUrkfheuA/yXa+nxov4T+cxCCwcmjhP8uhRbbz/eA/xks3iUFg4T+6SQwCK4fiP53vp8ZLN+E/+n5qvHST4D/GSzeJQWDhPwrXo3A9Ct8/H4XrUbge4T/EILByaJHhP+XQItv5fuI/9P3UeOkm4T+6SQwCK4fiP9Ei2/l+auA/zczMzMzM4D81XrpJDALjPz0K16NwPeI/GARWDi2y4T/l0CLb+X7iPxbZzvdT4+E/YOXQItv54j/Xo3A9CtfjPxSuR+F6FOI/I9v5fmq84D8pXI/C9SjgP1g5tMh2vt8/DQIrhxbZ3j/P91PjpZvgP2iR7Xw/NeI/WDm0yHa+3z/o+6nx0k3iPxFYObTIdt4/xSCwcmiR3T8hsHJoke3gPwaBlUOLbN8/arx0kxgE4j86tMh2vp/iPycxCKwcWuA/PQrXo3A94j+wcmiR7XzjPw==",
          "dtype": "f8"
         },
         "yaxis": "y"
        },
        {
         "line": {
          "color": "red",
          "dash": "dash"
         },
         "mode": "lines",
         "name": "actual = expected",
         "type": "scatter",
         "x": [
          0.46,
          0.61
         ],
         "y": [
          0.46,
          0.61
         ]
        }
       ],
       "layout": {
        "height": 600,
        "legend": {
         "tracegroupgap": 0
        },
        "template": {
         "data": {
          "bar": [
           {
            "error_x": {
             "color": "#2a3f5f"
            },
            "error_y": {
             "color": "#2a3f5f"
            },
            "marker": {
             "line": {
              "color": "white",
              "width": 0.5
             },
             "pattern": {
              "fillmode": "overlay",
              "size": 10,
              "solidity": 0.2
             }
            },
            "type": "bar"
           }
          ],
          "barpolar": [
           {
            "marker": {
             "line": {
              "color": "white",
              "width": 0.5
             },
             "pattern": {
              "fillmode": "overlay",
              "size": 10,
              "solidity": 0.2
             }
            },
            "type": "barpolar"
           }
          ],
          "carpet": [
           {
            "aaxis": {
             "endlinecolor": "#2a3f5f",
             "gridcolor": "#C8D4E3",
             "linecolor": "#C8D4E3",
             "minorgridcolor": "#C8D4E3",
             "startlinecolor": "#2a3f5f"
            },
            "baxis": {
             "endlinecolor": "#2a3f5f",
             "gridcolor": "#C8D4E3",
             "linecolor": "#C8D4E3",
             "minorgridcolor": "#C8D4E3",
             "startlinecolor": "#2a3f5f"
            },
            "type": "carpet"
           }
          ],
          "choropleth": [
           {
            "colorbar": {
             "outlinewidth": 0,
             "ticks": ""
            },
            "type": "choropleth"
           }
          ],
          "contour": [
           {
            "colorbar": {
             "outlinewidth": 0,
             "ticks": ""
            },
            "colorscale": [
             [
              0,
              "#0d0887"
             ],
             [
              0.1111111111111111,
              "#46039f"
             ],
             [
              0.2222222222222222,
              "#7201a8"
             ],
             [
              0.3333333333333333,
              "#9c179e"
             ],
             [
              0.4444444444444444,
              "#bd3786"
             ],
             [
              0.5555555555555556,
              "#d8576b"
             ],
             [
              0.6666666666666666,
              "#ed7953"
             ],
             [
              0.7777777777777778,
              "#fb9f3a"
             ],
             [
              0.8888888888888888,
              "#fdca26"
             ],
             [
              1,
              "#f0f921"
             ]
            ],
            "type": "contour"
           }
          ],
          "contourcarpet": [
           {
            "colorbar": {
             "outlinewidth": 0,
             "ticks": ""
            },
            "type": "contourcarpet"
           }
          ],
          "heatmap": [
           {
            "colorbar": {
             "outlinewidth": 0,
             "ticks": ""
            },
            "colorscale": [
             [
              0,
              "#0d0887"
             ],
             [
              0.1111111111111111,
              "#46039f"
             ],
             [
              0.2222222222222222,
              "#7201a8"
             ],
             [
              0.3333333333333333,
              "#9c179e"
             ],
             [
              0.4444444444444444,
              "#bd3786"
             ],
             [
              0.5555555555555556,
              "#d8576b"
             ],
             [
              0.6666666666666666,
              "#ed7953"
             ],
             [
              0.7777777777777778,
              "#fb9f3a"
             ],
             [
              0.8888888888888888,
              "#fdca26"
             ],
             [
              1,
              "#f0f921"
             ]
            ],
            "type": "heatmap"
           }
          ],
          "histogram": [
           {
            "marker": {
             "pattern": {
              "fillmode": "overlay",
              "size": 10,
              "solidity": 0.2
             }
            },
            "type": "histogram"
           }
          ],
          "histogram2d": [
           {
            "colorbar": {
             "outlinewidth": 0,
             "ticks": ""
            },
            "colorscale": [
             [
              0,
              "#0d0887"
             ],
             [
              0.1111111111111111,
              "#46039f"
             ],
             [
              0.2222222222222222,
              "#7201a8"
             ],
             [
              0.3333333333333333,
              "#9c179e"
             ],
             [
              0.4444444444444444,
              "#bd3786"
             ],
             [
              0.5555555555555556,
              "#d8576b"
             ],
             [
              0.6666666666666666,
              "#ed7953"
             ],
             [
              0.7777777777777778,
              "#fb9f3a"
             ],
             [
              0.8888888888888888,
              "#fdca26"
             ],
             [
              1,
              "#f0f921"
             ]
            ],
            "type": "histogram2d"
           }
          ],
          "histogram2dcontour": [
           {
            "colorbar": {
             "outlinewidth": 0,
             "ticks": ""
            },
            "colorscale": [
             [
              0,
              "#0d0887"
             ],
             [
              0.1111111111111111,
              "#46039f"
             ],
             [
              0.2222222222222222,
              "#7201a8"
             ],
             [
              0.3333333333333333,
              "#9c179e"
             ],
             [
              0.4444444444444444,
              "#bd3786"
             ],
             [
              0.5555555555555556,
              "#d8576b"
             ],
             [
              0.6666666666666666,
              "#ed7953"
             ],
             [
              0.7777777777777778,
              "#fb9f3a"
             ],
             [
              0.8888888888888888,
              "#fdca26"
             ],
             [
              1,
              "#f0f921"
             ]
            ],
            "type": "histogram2dcontour"
           }
          ],
          "mesh3d": [
           {
            "colorbar": {
             "outlinewidth": 0,
             "ticks": ""
            },
            "type": "mesh3d"
           }
          ],
          "parcoords": [
           {
            "line": {
             "colorbar": {
              "outlinewidth": 0,
              "ticks": ""
             }
            },
            "type": "parcoords"
           }
          ],
          "pie": [
           {
            "automargin": true,
            "type": "pie"
           }
          ],
          "scatter": [
           {
            "fillpattern": {
             "fillmode": "overlay",
             "size": 10,
             "solidity": 0.2
            },
            "type": "scatter"
           }
          ],
          "scatter3d": [
           {
            "line": {
             "colorbar": {
              "outlinewidth": 0,
              "ticks": ""
             }
            },
            "marker": {
             "colorbar": {
              "outlinewidth": 0,
              "ticks": ""
             }
            },
            "type": "scatter3d"
           }
          ],
          "scattercarpet": [
           {
            "marker": {
             "colorbar": {
              "outlinewidth": 0,
              "ticks": ""
             }
            },
            "type": "scattercarpet"
           }
          ],
          "scattergeo": [
           {
            "marker": {
             "colorbar": {
              "outlinewidth": 0,
              "ticks": ""
             }
            },
            "type": "scattergeo"
           }
          ],
          "scattergl": [
           {
            "marker": {
             "colorbar": {
              "outlinewidth": 0,
              "ticks": ""
             }
            },
            "type": "scattergl"
           }
          ],
          "scattermap": [
           {
            "marker": {
             "colorbar": {
              "outlinewidth": 0,
              "ticks": ""
             }
            },
            "type": "scattermap"
           }
          ],
          "scattermapbox": [
           {
            "marker": {
             "colorbar": {
              "outlinewidth": 0,
              "ticks": ""
             }
            },
            "type": "scattermapbox"
           }
          ],
          "scatterpolar": [
           {
            "marker": {
             "colorbar": {
              "outlinewidth": 0,
              "ticks": ""
             }
            },
            "type": "scatterpolar"
           }
          ],
          "scatterpolargl": [
           {
            "marker": {
             "colorbar": {
              "outlinewidth": 0,
              "ticks": ""
             }
            },
            "type": "scatterpolargl"
           }
          ],
          "scatterternary": [
           {
            "marker": {
             "colorbar": {
              "outlinewidth": 0,
              "ticks": ""
             }
            },
            "type": "scatterternary"
           }
          ],
          "surface": [
           {
            "colorbar": {
             "outlinewidth": 0,
             "ticks": ""
            },
            "colorscale": [
             [
              0,
              "#0d0887"
             ],
             [
              0.1111111111111111,
              "#46039f"
             ],
             [
              0.2222222222222222,
              "#7201a8"
             ],
             [
              0.3333333333333333,
              "#9c179e"
             ],
             [
              0.4444444444444444,
              "#bd3786"
             ],
             [
              0.5555555555555556,
              "#d8576b"
             ],
             [
              0.6666666666666666,
              "#ed7953"
             ],
             [
              0.7777777777777778,
              "#fb9f3a"
             ],
             [
              0.8888888888888888,
              "#fdca26"
             ],
             [
              1,
              "#f0f921"
             ]
            ],
            "type": "surface"
           }
          ],
          "table": [
           {
            "cells": {
             "fill": {
              "color": "#EBF0F8"
             },
             "line": {
              "color": "white"
             }
            },
            "header": {
             "fill": {
              "color": "#C8D4E3"
             },
             "line": {
              "color": "white"
             }
            },
            "type": "table"
           }
          ]
         },
         "layout": {
          "annotationdefaults": {
           "arrowcolor": "#2a3f5f",
           "arrowhead": 0,
           "arrowwidth": 1
          },
          "autotypenumbers": "strict",
          "coloraxis": {
           "colorbar": {
            "outlinewidth": 0,
            "ticks": ""
           }
          },
          "colorscale": {
           "diverging": [
            [
             0,
             "#8e0152"
            ],
            [
             0.1,
             "#c51b7d"
            ],
            [
             0.2,
             "#de77ae"
            ],
            [
             0.3,
             "#f1b6da"
            ],
            [
             0.4,
             "#fde0ef"
            ],
            [
             0.5,
             "#f7f7f7"
            ],
            [
             0.6,
             "#e6f5d0"
            ],
            [
             0.7,
             "#b8e186"
            ],
            [
             0.8,
             "#7fbc41"
            ],
            [
             0.9,
             "#4d9221"
            ],
            [
             1,
             "#276419"
            ]
           ],
           "sequential": [
            [
             0,
             "#0d0887"
            ],
            [
             0.1111111111111111,
             "#46039f"
            ],
            [
             0.2222222222222222,
             "#7201a8"
            ],
            [
             0.3333333333333333,
             "#9c179e"
            ],
            [
             0.4444444444444444,
             "#bd3786"
            ],
            [
             0.5555555555555556,
             "#d8576b"
            ],
            [
             0.6666666666666666,
             "#ed7953"
            ],
            [
             0.7777777777777778,
             "#fb9f3a"
            ],
            [
             0.8888888888888888,
             "#fdca26"
            ],
            [
             1,
             "#f0f921"
            ]
           ],
           "sequentialminus": [
            [
             0,
             "#0d0887"
            ],
            [
             0.1111111111111111,
             "#46039f"
            ],
            [
             0.2222222222222222,
             "#7201a8"
            ],
            [
             0.3333333333333333,
             "#9c179e"
            ],
            [
             0.4444444444444444,
             "#bd3786"
            ],
            [
             0.5555555555555556,
             "#d8576b"
            ],
            [
             0.6666666666666666,
             "#ed7953"
            ],
            [
             0.7777777777777778,
             "#fb9f3a"
            ],
            [
             0.8888888888888888,
             "#fdca26"
            ],
            [
             1,
             "#f0f921"
            ]
           ]
          },
          "colorway": [
           "#636efa",
           "#EF553B",
           "#00cc96",
           "#ab63fa",
           "#FFA15A",
           "#19d3f3",
           "#FF6692",
           "#B6E880",
           "#FF97FF",
           "#FECB52"
          ],
          "font": {
           "color": "#2a3f5f"
          },
          "geo": {
           "bgcolor": "white",
           "lakecolor": "white",
           "landcolor": "white",
           "showlakes": true,
           "showland": true,
           "subunitcolor": "#C8D4E3"
          },
          "hoverlabel": {
           "align": "left"
          },
          "hovermode": "closest",
          "mapbox": {
           "style": "light"
          },
          "paper_bgcolor": "white",
          "plot_bgcolor": "white",
          "polar": {
           "angularaxis": {
            "gridcolor": "#EBF0F8",
            "linecolor": "#EBF0F8",
            "ticks": ""
           },
           "bgcolor": "white",
           "radialaxis": {
            "gridcolor": "#EBF0F8",
            "linecolor": "#EBF0F8",
            "ticks": ""
           }
          },
          "scene": {
           "xaxis": {
            "backgroundcolor": "white",
            "gridcolor": "#DFE8F3",
            "gridwidth": 2,
            "linecolor": "#EBF0F8",
            "showbackground": true,
            "ticks": "",
            "zerolinecolor": "#EBF0F8"
           },
           "yaxis": {
            "backgroundcolor": "white",
            "gridcolor": "#DFE8F3",
            "gridwidth": 2,
            "linecolor": "#EBF0F8",
            "showbackground": true,
            "ticks": "",
            "zerolinecolor": "#EBF0F8"
           },
           "zaxis": {
            "backgroundcolor": "white",
            "gridcolor": "#DFE8F3",
            "gridwidth": 2,
            "linecolor": "#EBF0F8",
            "showbackground": true,
            "ticks": "",
            "zerolinecolor": "#EBF0F8"
           }
          },
          "shapedefaults": {
           "line": {
            "color": "#2a3f5f"
           }
          },
          "ternary": {
           "aaxis": {
            "gridcolor": "#DFE8F3",
            "linecolor": "#A2B1C6",
            "ticks": ""
           },
           "baxis": {
            "gridcolor": "#DFE8F3",
            "linecolor": "#A2B1C6",
            "ticks": ""
           },
           "bgcolor": "white",
           "caxis": {
            "gridcolor": "#DFE8F3",
            "linecolor": "#A2B1C6",
            "ticks": ""
           }
          },
          "title": {
           "x": 0.05
          },
          "xaxis": {
           "automargin": true,
           "gridcolor": "#EBF0F8",
           "linecolor": "#EBF0F8",
           "ticks": "",
           "title": {
            "standoff": 15
           },
           "zerolinecolor": "#EBF0F8",
           "zerolinewidth": 2
          },
          "yaxis": {
           "automargin": true,
           "gridcolor": "#EBF0F8",
           "linecolor": "#EBF0F8",
           "ticks": "",
           "title": {
            "standoff": 15
           },
           "zerolinecolor": "#EBF0F8",
           "zerolinewidth": 2
          }
         }
        },
        "title": {
         "text": "eFG% vs Shot Quality"
        },
        "width": 800,
        "xaxis": {
         "anchor": "y",
         "domain": [
          0,
          1
         ],
         "title": {
          "text": "Shot Quality (Expected eFG%)"
         }
        },
        "yaxis": {
         "anchor": "x",
         "domain": [
          0,
          1
         ],
         "title": {
          "text": "Actual eFG%"
         }
        }
       }
      }
     },
     "metadata": {},
     "output_type": "display_data"
    }
   ],
   "source": [
    "fig = px.scatter(\n",
    "    cleaned,\n",
    "    x='Shot Quality',\n",
    "    y='eFG%',\n",
    "    hover_name='Player',\n",
    "    title='eFG% vs Shot Quality',\n",
    "    labels={'Shot Quality': 'Shot Quality (Expected eFG%)', 'eFG%': 'Actual eFG%'},\n",
    "    width=800,\n",
    "    height=600\n",
    ")\n",
    "\n",
    "fig.add_trace(\n",
    "    go.Scatter(\n",
    "        x=[cleaned['Shot Quality'].min(), cleaned['Shot Quality'].max()],\n",
    "        y=[cleaned['Shot Quality'].min(), cleaned['Shot Quality'].max()],\n",
    "        mode='lines',\n",
    "        line=dict(dash='dash', color='red'),\n",
    "        name='actual = expected'\n",
    "    )\n",
    ")\n",
    "\n",
    "fig.update_layout(template='plotly_white')\n",
    "fig.show()\n"
   ]
  },
  {
   "cell_type": "code",
   "execution_count": 43,
   "metadata": {},
   "outputs": [
    {
     "data": {
      "application/vnd.plotly.v1+json": {
       "config": {
        "plotlyServerURL": "https://plot.ly"
       },
       "data": [
        {
         "hovertemplate": "<b>%{hovertext}</b><br><br>Shot Quality (Expected eFG%)=%{x}<br>Gap (Actual eFG% - Expected eFG%)=%{y}<extra></extra>",
         "hovertext": [
          "Amen Thompson",
          "Andrew Nembhard",
          "Anfernee Simons",
          "Anthony Edwards",
          "Austin Reaves",
          "Bennedict Mathurin",
          "Bilal Coulibaly",
          "Bogdan Bogdanović",
          "Bradley Beal",
          "Brandin Podziemski",
          "Bub Carrington",
          "CJ McCollum",
          "Cade Cunningham",
          "Cason Wallace",
          "Chris Paul",
          "Christian Braun",
          "Coby White",
          "Collin Sexton",
          "D'Angelo Russell",
          "Damian Lillard",
          "Darius Garland",
          "Davion Mitchell",
          "De'Aaron Fox",
          "De'Andre Hunter",
          "DeMar DeRozan",
          "Dennis Schröder",
          "Derrick White",
          "Desmond Bane",
          "Devin Booker",
          "Devin Vassell",
          "Dillon Brooks",
          "Donovan Mitchell",
          "Donte DiVincenzo",
          "Dyson Daniels",
          "Fred VanVleet",
          "Gary Trent Jr.",
          "Gradey Dick",
          "Isaiah Collier",
          "Ja Morant",
          "Jalen Brunson",
          "Jalen Green",
          "Jalen Williams",
          "Jamal Murray",
          "James Harden",
          "Jaylen Brown",
          "Jayson Tatum",
          "Jordan Poole",
          "Josh Giddey",
          "Josh Green",
          "Josh Hart",
          "Jrue Holiday",
          "Kelly Oubre Jr.",
          "Kentavious Caldwell-Pope",
          "Keyonte George",
          "Klay Thompson",
          "Kyrie Irving",
          "Luguentz Dort",
          "Luka Dončić",
          "Malik Beasley",
          "Malik Monk",
          "Max Christie",
          "Max Strus",
          "Mikal Bridges",
          "Nickeil Alexander-Walker",
          "Norman Powell",
          "OG Anunoby",
          "Ochai Agbaji",
          "Payton Pritchard",
          "Quentin Grimes",
          "RJ Barrett",
          "Russell Westbrook",
          "Scoot Henderson",
          "Scottie Barnes",
          "Shaedon Sharpe",
          "Shai Gilgeous-Alexander",
          "Spencer Dinwiddie",
          "Stephen Curry",
          "Stephon Castle",
          "Terry Rozier",
          "Tim Hardaway Jr.",
          "Trae Young",
          "Tyler Herro",
          "Tyrese Haliburton",
          "Tyrese Maxey",
          "Tyus Jones",
          "Zach LaVine"
         ],
         "legendgroup": "",
         "marker": {
          "color": "#636efa",
          "symbol": "circle"
         },
         "mode": "markers",
         "name": "",
         "orientation": "v",
         "showlegend": false,
         "type": "scatter",
         "x": {
          "bdata": "7FG4HoXr4T9SuB6F61HgP1K4HoXrUeA/SOF6FK5H4T+kcD0K16PgP0jhehSuR+E/mpmZmZmZ4T+amZmZmZnhP6RwPQrXo+A/UrgehetR4D9SuB6F61HgP6RwPQrXo+A/UrgehetR4D89CtejcD3iP1K4HoXrUeA/4XoUrkfh4j+amZmZmZnhP1K4HoXrUeA/pHA9Ctej4D9I4XoUrkfhP/YoXI/C9eA/7FG4HoXr4T9SuB6F61HgP0jhehSuR+E/cT0K16Nw3T8AAAAAAADgP0jhehSuR+E/9ihcj8L14D9SuB6F61HgP/YoXI/C9eA/pHA9Ctej4D/2KFyPwvXgP5qZmZmZmeE/mpmZmZmZ4T9SuB6F61HgP/YoXI/C9eA/mpmZmZmZ4T/2KFyPwvXgP/YoXI/C9eA/UrgehetR4D/2KFyPwvXgP/YoXI/C9eA/UrgehetR4D9SuB6F61HgP6RwPQrXo+A/9ihcj8L14D9I4XoUrkfhP5qZmZmZmeE/PQrXo3A94j+PwvUoXI/iP0jhehSuR+E/7FG4HoXr4T9I4XoUrkfhPwAAAAAAAOA/9ihcj8L14D9SuB6F61HgP+xRuB6F6+E/UrgehetR4D/2KFyPwvXgP6RwPQrXo+A/SOF6FK5H4T89CtejcD3iP0jhehSuR+E/mpmZmZmZ4T/2KFyPwvXgP+F6FK5H4eI/hetRuB6F4z/2KFyPwvXgP+xRuB6F6+E/PQrXo3A94j/sUbgehevhP0jhehSuR+E/pHA9Ctej4D+amZmZmZnhP6RwPQrXo+A/UrgehetR4D+kcD0K16PgP+xRuB6F6+E/SOF6FK5H4T9I4XoUrkfhP1K4HoXrUeA/pHA9Ctej4D+kcD0K16PgP0jhehSuR+E/pHA9Ctej4D89CtejcD3iPw==",
          "dtype": "f8"
         },
         "xaxis": "x",
         "y": {
          "bdata": "gB6F61G4jj8AqvHSTWJwv8BJDAIrh4Y/gOkmMQisfD9A30+Nl26iPwB/arx0k5i/LIcW2c73s78AqvHSTWKQv/AmMQisHKo/4M73U+Olmz+gxCCwcmiRv4AUrkfheoQ/wEkMAiuHhj9gFK5H4XqUv5Bs5/up8aI/wEkMAiuHpj8AAAAAAAAAAEA3iUFg5aA/0KFFtvP9pL+A6SYxCKx8PwCq8dJNYqA/AH9qvHSTaL8AqvHSTWJwP0A3iUFg5aA/SAwCK4cWqT+gxCCwcmiRv3AUrkfheqQ/4FG4HoXroT/AHoXrUbiOPwCq8dJNYmA/ALTIdr6fij8AqvHSTWJQPyDfT42XbpI/gOkmMQisjL/gzvdT46Wbv9D5fmq8dKM/QLTIdr6fqr+YGARWDi2yv0C0yHa+n5q/0KFFtvP9pD+gmZmZmZmZv4DpJjEIrHw/QDeJQWDloD9A30+Nl26Cv4AUrkfhenS/gOkmMQisfD8AqvHSTWJwP+D5fmq8dJO/4M73U+Olm78AqvHSTWJQvwCr8dJNYmC/IC/dJAaBpb8Afmq8dJNoP8AehetRuI6/gBSuR+F6dD8ghxbZzvejPyDfT42XbpI/QLTIdr6fmj9ADAIrhxapP4DpJjEIrHy/wB6F61G4jr8Af2q8dJOYP6AehetRuJ4/AH5qvHSTaD/wfmq8dJOoP2A5tMh2vp+/oMQgsHJokb8I16NwPQq3PwAUrkfhenQ/oPHSTWIQqL8wXI/C9Sisv8BJDAIrh6a/2Pl+arx0o79gObTIdr6fv0AMAiuHFqk/gOkmMQisjL9AtMh2vp+qPxwv3SQGgbW/LIcW2c73s7/ASQwCK4eGv+D5fmq8dJO/YLx0kxgEpj9gObTIdr6vPyAEVg4tsp2/kJmZmZmZqT8whxbZzvejPw==",
          "dtype": "f8"
         },
         "yaxis": "y"
        },
        {
         "line": {
          "color": "red",
          "dash": "dash"
         },
         "mode": "lines",
         "name": "y = 0",
         "type": "scatter",
         "x": [
          0.46,
          0.61
         ],
         "y": [
          0,
          0
         ]
        }
       ],
       "layout": {
        "height": 600,
        "legend": {
         "tracegroupgap": 0
        },
        "template": {
         "data": {
          "bar": [
           {
            "error_x": {
             "color": "#2a3f5f"
            },
            "error_y": {
             "color": "#2a3f5f"
            },
            "marker": {
             "line": {
              "color": "white",
              "width": 0.5
             },
             "pattern": {
              "fillmode": "overlay",
              "size": 10,
              "solidity": 0.2
             }
            },
            "type": "bar"
           }
          ],
          "barpolar": [
           {
            "marker": {
             "line": {
              "color": "white",
              "width": 0.5
             },
             "pattern": {
              "fillmode": "overlay",
              "size": 10,
              "solidity": 0.2
             }
            },
            "type": "barpolar"
           }
          ],
          "carpet": [
           {
            "aaxis": {
             "endlinecolor": "#2a3f5f",
             "gridcolor": "#C8D4E3",
             "linecolor": "#C8D4E3",
             "minorgridcolor": "#C8D4E3",
             "startlinecolor": "#2a3f5f"
            },
            "baxis": {
             "endlinecolor": "#2a3f5f",
             "gridcolor": "#C8D4E3",
             "linecolor": "#C8D4E3",
             "minorgridcolor": "#C8D4E3",
             "startlinecolor": "#2a3f5f"
            },
            "type": "carpet"
           }
          ],
          "choropleth": [
           {
            "colorbar": {
             "outlinewidth": 0,
             "ticks": ""
            },
            "type": "choropleth"
           }
          ],
          "contour": [
           {
            "colorbar": {
             "outlinewidth": 0,
             "ticks": ""
            },
            "colorscale": [
             [
              0,
              "#0d0887"
             ],
             [
              0.1111111111111111,
              "#46039f"
             ],
             [
              0.2222222222222222,
              "#7201a8"
             ],
             [
              0.3333333333333333,
              "#9c179e"
             ],
             [
              0.4444444444444444,
              "#bd3786"
             ],
             [
              0.5555555555555556,
              "#d8576b"
             ],
             [
              0.6666666666666666,
              "#ed7953"
             ],
             [
              0.7777777777777778,
              "#fb9f3a"
             ],
             [
              0.8888888888888888,
              "#fdca26"
             ],
             [
              1,
              "#f0f921"
             ]
            ],
            "type": "contour"
           }
          ],
          "contourcarpet": [
           {
            "colorbar": {
             "outlinewidth": 0,
             "ticks": ""
            },
            "type": "contourcarpet"
           }
          ],
          "heatmap": [
           {
            "colorbar": {
             "outlinewidth": 0,
             "ticks": ""
            },
            "colorscale": [
             [
              0,
              "#0d0887"
             ],
             [
              0.1111111111111111,
              "#46039f"
             ],
             [
              0.2222222222222222,
              "#7201a8"
             ],
             [
              0.3333333333333333,
              "#9c179e"
             ],
             [
              0.4444444444444444,
              "#bd3786"
             ],
             [
              0.5555555555555556,
              "#d8576b"
             ],
             [
              0.6666666666666666,
              "#ed7953"
             ],
             [
              0.7777777777777778,
              "#fb9f3a"
             ],
             [
              0.8888888888888888,
              "#fdca26"
             ],
             [
              1,
              "#f0f921"
             ]
            ],
            "type": "heatmap"
           }
          ],
          "histogram": [
           {
            "marker": {
             "pattern": {
              "fillmode": "overlay",
              "size": 10,
              "solidity": 0.2
             }
            },
            "type": "histogram"
           }
          ],
          "histogram2d": [
           {
            "colorbar": {
             "outlinewidth": 0,
             "ticks": ""
            },
            "colorscale": [
             [
              0,
              "#0d0887"
             ],
             [
              0.1111111111111111,
              "#46039f"
             ],
             [
              0.2222222222222222,
              "#7201a8"
             ],
             [
              0.3333333333333333,
              "#9c179e"
             ],
             [
              0.4444444444444444,
              "#bd3786"
             ],
             [
              0.5555555555555556,
              "#d8576b"
             ],
             [
              0.6666666666666666,
              "#ed7953"
             ],
             [
              0.7777777777777778,
              "#fb9f3a"
             ],
             [
              0.8888888888888888,
              "#fdca26"
             ],
             [
              1,
              "#f0f921"
             ]
            ],
            "type": "histogram2d"
           }
          ],
          "histogram2dcontour": [
           {
            "colorbar": {
             "outlinewidth": 0,
             "ticks": ""
            },
            "colorscale": [
             [
              0,
              "#0d0887"
             ],
             [
              0.1111111111111111,
              "#46039f"
             ],
             [
              0.2222222222222222,
              "#7201a8"
             ],
             [
              0.3333333333333333,
              "#9c179e"
             ],
             [
              0.4444444444444444,
              "#bd3786"
             ],
             [
              0.5555555555555556,
              "#d8576b"
             ],
             [
              0.6666666666666666,
              "#ed7953"
             ],
             [
              0.7777777777777778,
              "#fb9f3a"
             ],
             [
              0.8888888888888888,
              "#fdca26"
             ],
             [
              1,
              "#f0f921"
             ]
            ],
            "type": "histogram2dcontour"
           }
          ],
          "mesh3d": [
           {
            "colorbar": {
             "outlinewidth": 0,
             "ticks": ""
            },
            "type": "mesh3d"
           }
          ],
          "parcoords": [
           {
            "line": {
             "colorbar": {
              "outlinewidth": 0,
              "ticks": ""
             }
            },
            "type": "parcoords"
           }
          ],
          "pie": [
           {
            "automargin": true,
            "type": "pie"
           }
          ],
          "scatter": [
           {
            "fillpattern": {
             "fillmode": "overlay",
             "size": 10,
             "solidity": 0.2
            },
            "type": "scatter"
           }
          ],
          "scatter3d": [
           {
            "line": {
             "colorbar": {
              "outlinewidth": 0,
              "ticks": ""
             }
            },
            "marker": {
             "colorbar": {
              "outlinewidth": 0,
              "ticks": ""
             }
            },
            "type": "scatter3d"
           }
          ],
          "scattercarpet": [
           {
            "marker": {
             "colorbar": {
              "outlinewidth": 0,
              "ticks": ""
             }
            },
            "type": "scattercarpet"
           }
          ],
          "scattergeo": [
           {
            "marker": {
             "colorbar": {
              "outlinewidth": 0,
              "ticks": ""
             }
            },
            "type": "scattergeo"
           }
          ],
          "scattergl": [
           {
            "marker": {
             "colorbar": {
              "outlinewidth": 0,
              "ticks": ""
             }
            },
            "type": "scattergl"
           }
          ],
          "scattermap": [
           {
            "marker": {
             "colorbar": {
              "outlinewidth": 0,
              "ticks": ""
             }
            },
            "type": "scattermap"
           }
          ],
          "scattermapbox": [
           {
            "marker": {
             "colorbar": {
              "outlinewidth": 0,
              "ticks": ""
             }
            },
            "type": "scattermapbox"
           }
          ],
          "scatterpolar": [
           {
            "marker": {
             "colorbar": {
              "outlinewidth": 0,
              "ticks": ""
             }
            },
            "type": "scatterpolar"
           }
          ],
          "scatterpolargl": [
           {
            "marker": {
             "colorbar": {
              "outlinewidth": 0,
              "ticks": ""
             }
            },
            "type": "scatterpolargl"
           }
          ],
          "scatterternary": [
           {
            "marker": {
             "colorbar": {
              "outlinewidth": 0,
              "ticks": ""
             }
            },
            "type": "scatterternary"
           }
          ],
          "surface": [
           {
            "colorbar": {
             "outlinewidth": 0,
             "ticks": ""
            },
            "colorscale": [
             [
              0,
              "#0d0887"
             ],
             [
              0.1111111111111111,
              "#46039f"
             ],
             [
              0.2222222222222222,
              "#7201a8"
             ],
             [
              0.3333333333333333,
              "#9c179e"
             ],
             [
              0.4444444444444444,
              "#bd3786"
             ],
             [
              0.5555555555555556,
              "#d8576b"
             ],
             [
              0.6666666666666666,
              "#ed7953"
             ],
             [
              0.7777777777777778,
              "#fb9f3a"
             ],
             [
              0.8888888888888888,
              "#fdca26"
             ],
             [
              1,
              "#f0f921"
             ]
            ],
            "type": "surface"
           }
          ],
          "table": [
           {
            "cells": {
             "fill": {
              "color": "#EBF0F8"
             },
             "line": {
              "color": "white"
             }
            },
            "header": {
             "fill": {
              "color": "#C8D4E3"
             },
             "line": {
              "color": "white"
             }
            },
            "type": "table"
           }
          ]
         },
         "layout": {
          "annotationdefaults": {
           "arrowcolor": "#2a3f5f",
           "arrowhead": 0,
           "arrowwidth": 1
          },
          "autotypenumbers": "strict",
          "coloraxis": {
           "colorbar": {
            "outlinewidth": 0,
            "ticks": ""
           }
          },
          "colorscale": {
           "diverging": [
            [
             0,
             "#8e0152"
            ],
            [
             0.1,
             "#c51b7d"
            ],
            [
             0.2,
             "#de77ae"
            ],
            [
             0.3,
             "#f1b6da"
            ],
            [
             0.4,
             "#fde0ef"
            ],
            [
             0.5,
             "#f7f7f7"
            ],
            [
             0.6,
             "#e6f5d0"
            ],
            [
             0.7,
             "#b8e186"
            ],
            [
             0.8,
             "#7fbc41"
            ],
            [
             0.9,
             "#4d9221"
            ],
            [
             1,
             "#276419"
            ]
           ],
           "sequential": [
            [
             0,
             "#0d0887"
            ],
            [
             0.1111111111111111,
             "#46039f"
            ],
            [
             0.2222222222222222,
             "#7201a8"
            ],
            [
             0.3333333333333333,
             "#9c179e"
            ],
            [
             0.4444444444444444,
             "#bd3786"
            ],
            [
             0.5555555555555556,
             "#d8576b"
            ],
            [
             0.6666666666666666,
             "#ed7953"
            ],
            [
             0.7777777777777778,
             "#fb9f3a"
            ],
            [
             0.8888888888888888,
             "#fdca26"
            ],
            [
             1,
             "#f0f921"
            ]
           ],
           "sequentialminus": [
            [
             0,
             "#0d0887"
            ],
            [
             0.1111111111111111,
             "#46039f"
            ],
            [
             0.2222222222222222,
             "#7201a8"
            ],
            [
             0.3333333333333333,
             "#9c179e"
            ],
            [
             0.4444444444444444,
             "#bd3786"
            ],
            [
             0.5555555555555556,
             "#d8576b"
            ],
            [
             0.6666666666666666,
             "#ed7953"
            ],
            [
             0.7777777777777778,
             "#fb9f3a"
            ],
            [
             0.8888888888888888,
             "#fdca26"
            ],
            [
             1,
             "#f0f921"
            ]
           ]
          },
          "colorway": [
           "#636efa",
           "#EF553B",
           "#00cc96",
           "#ab63fa",
           "#FFA15A",
           "#19d3f3",
           "#FF6692",
           "#B6E880",
           "#FF97FF",
           "#FECB52"
          ],
          "font": {
           "color": "#2a3f5f"
          },
          "geo": {
           "bgcolor": "white",
           "lakecolor": "white",
           "landcolor": "white",
           "showlakes": true,
           "showland": true,
           "subunitcolor": "#C8D4E3"
          },
          "hoverlabel": {
           "align": "left"
          },
          "hovermode": "closest",
          "mapbox": {
           "style": "light"
          },
          "paper_bgcolor": "white",
          "plot_bgcolor": "white",
          "polar": {
           "angularaxis": {
            "gridcolor": "#EBF0F8",
            "linecolor": "#EBF0F8",
            "ticks": ""
           },
           "bgcolor": "white",
           "radialaxis": {
            "gridcolor": "#EBF0F8",
            "linecolor": "#EBF0F8",
            "ticks": ""
           }
          },
          "scene": {
           "xaxis": {
            "backgroundcolor": "white",
            "gridcolor": "#DFE8F3",
            "gridwidth": 2,
            "linecolor": "#EBF0F8",
            "showbackground": true,
            "ticks": "",
            "zerolinecolor": "#EBF0F8"
           },
           "yaxis": {
            "backgroundcolor": "white",
            "gridcolor": "#DFE8F3",
            "gridwidth": 2,
            "linecolor": "#EBF0F8",
            "showbackground": true,
            "ticks": "",
            "zerolinecolor": "#EBF0F8"
           },
           "zaxis": {
            "backgroundcolor": "white",
            "gridcolor": "#DFE8F3",
            "gridwidth": 2,
            "linecolor": "#EBF0F8",
            "showbackground": true,
            "ticks": "",
            "zerolinecolor": "#EBF0F8"
           }
          },
          "shapedefaults": {
           "line": {
            "color": "#2a3f5f"
           }
          },
          "ternary": {
           "aaxis": {
            "gridcolor": "#DFE8F3",
            "linecolor": "#A2B1C6",
            "ticks": ""
           },
           "baxis": {
            "gridcolor": "#DFE8F3",
            "linecolor": "#A2B1C6",
            "ticks": ""
           },
           "bgcolor": "white",
           "caxis": {
            "gridcolor": "#DFE8F3",
            "linecolor": "#A2B1C6",
            "ticks": ""
           }
          },
          "title": {
           "x": 0.05
          },
          "xaxis": {
           "automargin": true,
           "gridcolor": "#EBF0F8",
           "linecolor": "#EBF0F8",
           "ticks": "",
           "title": {
            "standoff": 15
           },
           "zerolinecolor": "#EBF0F8",
           "zerolinewidth": 2
          },
          "yaxis": {
           "automargin": true,
           "gridcolor": "#EBF0F8",
           "linecolor": "#EBF0F8",
           "ticks": "",
           "title": {
            "standoff": 15
           },
           "zerolinecolor": "#EBF0F8",
           "zerolinewidth": 2
          }
         }
        },
        "title": {
         "text": "Gap vs Shot Quality"
        },
        "width": 800,
        "xaxis": {
         "anchor": "y",
         "domain": [
          0,
          1
         ],
         "title": {
          "text": "Shot Quality (Expected eFG%)"
         }
        },
        "yaxis": {
         "anchor": "x",
         "domain": [
          0,
          1
         ],
         "title": {
          "text": "Gap (Actual eFG% - Expected eFG%)"
         }
        }
       }
      }
     },
     "metadata": {},
     "output_type": "display_data"
    }
   ],
   "source": [
    "fig = px.scatter(\n",
    "    cleaned,\n",
    "    x='Shot Quality',\n",
    "    y='Gap',\n",
    "    hover_name='Player',\n",
    "    title='Gap vs Shot Quality',\n",
    "    labels={'Shot Quality': 'Shot Quality (Expected eFG%)', 'Gap': 'Gap (Actual eFG% - Expected eFG%)'},\n",
    "    width=800,\n",
    "    height=600\n",
    ")\n",
    "\n",
    "fig.add_trace(\n",
    "    go.Scatter(\n",
    "        x=[cleaned['Shot Quality'].min(), cleaned['Shot Quality'].max()],\n",
    "        y=[0, 0],\n",
    "        mode='lines',\n",
    "        line=dict(dash='dash', color='red'),\n",
    "        name='y = 0'\n",
    "    )\n",
    ")\n",
    "\n",
    "fig.update_layout(template='plotly_white')\n",
    "fig.show()"
   ]
  },
  {
   "cell_type": "code",
   "execution_count": 44,
   "metadata": {},
   "outputs": [
    {
     "data": {
      "application/vnd.plotly.v1+json": {
       "config": {
        "plotlyServerURL": "https://plot.ly"
       },
       "data": [
        {
         "hovertemplate": "<b>%{hovertext}</b><br><br>Unassisted Points (%)=%{x}<br>Effective Field Goal %=%{y}<extra></extra>",
         "hovertext": [
          "Amen Thompson",
          "Andrew Nembhard",
          "Anfernee Simons",
          "Anthony Edwards",
          "Austin Reaves",
          "Bennedict Mathurin",
          "Bilal Coulibaly",
          "Bogdan Bogdanović",
          "Bradley Beal",
          "Brandin Podziemski",
          "Bub Carrington",
          "CJ McCollum",
          "Cade Cunningham",
          "Cason Wallace",
          "Chris Paul",
          "Christian Braun",
          "Coby White",
          "Collin Sexton",
          "D'Angelo Russell",
          "Damian Lillard",
          "Darius Garland",
          "Davion Mitchell",
          "De'Aaron Fox",
          "De'Andre Hunter",
          "DeMar DeRozan",
          "Dennis Schröder",
          "Derrick White",
          "Desmond Bane",
          "Devin Booker",
          "Devin Vassell",
          "Dillon Brooks",
          "Donovan Mitchell",
          "Donte DiVincenzo",
          "Dyson Daniels",
          "Fred VanVleet",
          "Gary Trent Jr.",
          "Gradey Dick",
          "Isaiah Collier",
          "Ja Morant",
          "Jalen Brunson",
          "Jalen Green",
          "Jalen Williams",
          "Jamal Murray",
          "James Harden",
          "Jaylen Brown",
          "Jayson Tatum",
          "Jordan Poole",
          "Josh Giddey",
          "Josh Green",
          "Josh Hart",
          "Jrue Holiday",
          "Kelly Oubre Jr.",
          "Kentavious Caldwell-Pope",
          "Keyonte George",
          "Klay Thompson",
          "Kyrie Irving",
          "Luguentz Dort",
          "Luka Dončić",
          "Malik Beasley",
          "Malik Monk",
          "Max Christie",
          "Max Strus",
          "Mikal Bridges",
          "Nickeil Alexander-Walker",
          "Norman Powell",
          "OG Anunoby",
          "Ochai Agbaji",
          "Payton Pritchard",
          "Quentin Grimes",
          "RJ Barrett",
          "Russell Westbrook",
          "Scoot Henderson",
          "Scottie Barnes",
          "Shaedon Sharpe",
          "Shai Gilgeous-Alexander",
          "Spencer Dinwiddie",
          "Stephen Curry",
          "Stephon Castle",
          "Terry Rozier",
          "Tim Hardaway Jr.",
          "Trae Young",
          "Tyler Herro",
          "Tyrese Haliburton",
          "Tyrese Maxey",
          "Tyus Jones",
          "Zach LaVine"
         ],
         "legendgroup": "",
         "marker": {
          "color": "#636efa",
          "symbol": "circle"
         },
         "mode": "markers",
         "name": "",
         "orientation": "v",
         "showlegend": false,
         "type": "scatter",
         "x": {
          "bdata": "3GMtQwfs1j9g5dAi2/nWP4PqHHczJuA/VD6M+3VJ3T8XK8M3osDUP2tDvPBvINI/43I0Lkfj0j8S2ktoL6G9P23TOaAGbdM/sRM7sRM70T/izhJ281vYP+rIvEq0x9c//Y9yeKrT4T+u+Iqv+IrPP/uGtW9Y++A/q39AH1GGxj8PDw8PDw/XP/EcgaKtBts/+Zd/+Zd/2T+cBxfQfJXdP3lZxCeQSt4/CFyWSLDQ2j8txSFjr13ePyNWibzvIsY/XK6SRrXl2j+VPMuIPqDaP5aoXYnaldA/eHd3d3f32j8zMzMzMxPXP6BtzS6FKNE/xwgm+jtZzT9RuB6F61HgP5iLuZiLucg/J9X1G3OD1j+LgB6spnXcP6+M7Xf0ysg/+qRP+qRPuj+KDfOR2DDfP/nDAY8/HOA/Gkb7TXku4T/9nayWN0bgP2ZmZmZmZto/I68+iyuj3T/8CO4juI/gP72vCUHZ+9o/RcsquEE23z8RuxOxOxHbP8ZZgM1nnNU/Dx3Di/PQwT8JCQkJCQnRP9QfsYA7/dE/lZhKTCWm0j/jBTIpXiDDPwMncAIncNY/AAAAAAAAwD9y2R3QHJfdP/j9I8FbY7w/zgklGrhF4D+zGkUcOmm/P6AW2/hpsdU/7+7u7u7uxD9XEJMriMm1PwnylCBPCco/YPhUluKQwT+zBDbtJ0vQP/VJn/RJn8Q/TuzETuzEvj93EDYbnGTVP4pHwreieNQ/9te6QnM71T9Wcu9iVyXXP/cUpGtPQdo/k8RfqzJN2T/Qb1zaJzDaP7IjNHEvO+I/IU8J8pQg3z/gUBXK8SPUP/djP/ZjP9Y/FIy3ss8h1T/514h/jfi3Pwr9si2krOA/WwthsUzO1z9azZvVvFndPwAAAAAAAOA/EhISEhIS0j+MxbHzF5/cPw==",
          "dtype": "f8"
         },
         "xaxis": "x",
         "y": {
          "bdata": "ZmZmZmZm4j/+1HjpJjHgP3npJjEIrOA/Gy/dJAaB4T+YbhKDwMrhP1CNl24Sg+A/aZHtfD813j9KDAIrhxbhPxODwMqhReI/yXa+nxov4T9aZDvfT43fP/YoXI/C9eA/eekmMQis4D+amZmZmZnhPxsv3SQGgeE/fT81XrpJ5D+amZmZmZnhP8ZLN4lBYOE/Di2yne+n3j8bL90kBoHhP5ZDi2zn++E/bef7qfHS4T+mm8QgsHLgP7x0kxgEVuI/fT81XrpJ4D+28/3UeOneP4/C9Shcj+I/FK5H4XoU4j/NzMzMzMzgP6AaL90kBuE/dJMYBFYO4T/LoUW28/3gP5MYBFYOLeI/9P3UeOkm4T+28/3UeOneP5MYBFYOLeI/rBxaZDvf3z/GSzeJQWDdP1TjpZvEIOA/bxKDwMqh4T8pXI/C9SjgP8l2vp8aL+E/xks3iUFg4T/VeOkmMQjgP3sUrkfheuA/yXa+nxov4T+cxCCwcmjhP8uhRbbz/eA/xks3iUFg4T+6SQwCK4fiP53vp8ZLN+E/+n5qvHST4D/GSzeJQWDhPwrXo3A9Ct8/H4XrUbge4T/EILByaJHhP+XQItv5fuI/9P3UeOkm4T+6SQwCK4fiP9Ei2/l+auA/zczMzMzM4D81XrpJDALjPz0K16NwPeI/GARWDi2y4T/l0CLb+X7iPxbZzvdT4+E/YOXQItv54j/Xo3A9CtfjPxSuR+F6FOI/I9v5fmq84D8pXI/C9SjgP1g5tMh2vt8/DQIrhxbZ3j/P91PjpZvgP2iR7Xw/NeI/WDm0yHa+3z/o+6nx0k3iPxFYObTIdt4/xSCwcmiR3T8hsHJoke3gPwaBlUOLbN8/arx0kxgE4j86tMh2vp/iPycxCKwcWuA/PQrXo3A94j+wcmiR7XzjPw==",
          "dtype": "f8"
         },
         "yaxis": "y"
        },
        {
         "line": {
          "color": "red",
          "dash": "dash"
         },
         "mode": "lines",
         "name": "Trendline",
         "type": "scatter",
         "x": {
          "bdata": "VxCTK4jJtT8+zUrpVgq3PySKAqclS7g/C0e6ZPSLuT/yA3Iiw8y6P9jAKeCRDbw/v33hnWBOvT+mOplbL4++P4z3UBn+z78/OlqEa2aIwD+tOGDKzSjBPyAXPCk1ycE/lPUXiJxpwj8H1PPmAwrDP3qyz0VrqsM/7pCrpNJKxD9hb4cDOuvEP9RNY2Khi8U/SCw/wQgsxj+7ChsgcMzGPy7p9n7XbMc/osfS3T4NyD8Vpq48pq3IP4iEipsNTsk//GJm+nTuyT9vQUJZ3I7KP+IfHrhDL8s/Vv75FqvPyz/K3NV1EnDMPzy7sdR5EM0/sJmNM+GwzT8keGmSSFHOP5ZWRfGv8c4/CjUhUBeSzz+/iX5XPxnQP/h47AZzadA/Mmhatqa50D9sV8hl2gnRP6VGNhUOWtE/3zWkxEGq0T8ZJRJ0dfrRP1IUgCOpStI/jAPu0tya0j/G8luCEOvSP//hyTFEO9M/OdE34XeL0z9zwKWQq9vTP6yvE0DfK9Q/5p6B7xJ81D8gju+eRszUP1l9XU56HNU/k2zL/a1s1T/NWzmt4bzVPwdLp1wVDdY/QDoVDEld1j96KYO7fK3WP7QY8Wqw/dY/7QdfGuRN1z8n98zJF57XP2HmOnlL7tc/mtWoKH8+2D/UxBbYso7YPw60hIfm3tg/R6PyNhov2T+BkmDmTX/ZP7uBzpWBz9k/9HA8RbUf2j8uYKr06G/aP2hPGKQcwNo/oT6GU1AQ2z/bLfQChGDbPxUdYrK3sNs/TgzQYesA3D+I+z0RH1HcP8Lqq8BSodw/+9kZcIbx3D81yYcfukHdP2+49c7tkd0/qKdjfiHi3T/iltEtVTLePxyGP92Igt4/VXWtjLzS3j+PZBs88CLfP8lTiesjc98/AkP3mlfD3z8emTKlxQngP7uQ6XzfMeA/V4igVPlZ4D/0f1csE4LgP5F3DgQtquA/Lm/F20bS4D/LZnyzYPrgP2heM4t6IuE/BFbqYpRK4T+hTaE6rnLhPz5FWBLImuE/2zwP6uHC4T94NMbB++rhPxUsfZkVE+I/siM0cS874j8=",
          "dtype": "f8"
         },
         "y": {
          "bdata": "HDFVWeju4T9sVBfFRevhP7x32TCj5+E/DJubnADk4T9dvl0IXuDhP63hH3S73OE//QTi3xjZ4T9NKKRLdtXhP55LZrfT0eE/7m4oIzHO4T8+kuqOjsrhP461rPrrxuE/39huZknD4T8v/DDSpr/hP38f8z0EvOE/z0K1qWG44T8gZncVv7ThP3CJOYEcseE/wKz77Hmt4T8Q0L1Y16nhP2Dzf8Q0puE/sRZCMJKi4T8BOgSc757hP1FdxgdNm+E/oYCIc6qX4T/yo0rfB5ThP0LHDEtlkOE/kurOtsKM4T/iDZEiIInhPzMxU459heE/g1QV+tqB4T/Td9dlOH7hPyObmdGVeuE/dL5bPfN24T/E4R2pUHPhPxQF4BSub+E/ZCiigAts4T+0S2TsaGjhPwVvJljGZOE/VZLowyNh4T+ltaovgV3hP/bYbJveWeE/RvwuBzxW4T+WH/FymVLhP+ZCs972TuE/NmZ1SlRL4T+HiTe2sUfhP9es+SEPROE/J9C7jWxA4T938335yTzhP8gWQGUnOeE/GDoC0YQ14T9oXcQ84jHhP7iAhqg/LuE/CaRIFJ0q4T9ZxwqA+ibhP6nqzOtXI+E/+Q2PV7Uf4T9KMVHDEhzhP5pUEy9wGOE/6nfVms0U4T86m5cGKxHhP4q+WXKIDeE/2+Eb3uUJ4T8rBd5JQwbhP3sooLWgAuE/y0tiIf7+4D8cbySNW/vgP2yS5vi49+A/vLWoZBb04D8M2WrQc/DgP138LDzR7OA/rR/vpy7p4D/9QrETjOXgP01mc3/p4eA/nok160be4D/urPdWpNrgPz7QucIB1+A/jvN7Ll/T4D/eFj6avM/gPy86AAYazOA/f13CcXfI4D/PgITd1MTgPx+kRkkyweA/cMcItY+94D/A6sog7bngPxAOjYxKtuA/YDFP+Key4D+xVBFkBa/gPwF4089iq+A/UZuVO8Cn4D+hvlenHaTgP/LhGRN7oOA/QgXcftic4D+SKJ7qNZngP+JLYFaTleA/M28iwvCR4D+DkuQtTo7gP9O1ppmriuA/I9loBQmH4D8=",
          "dtype": "f8"
         }
        }
       ],
       "layout": {
        "height": 600,
        "legend": {
         "tracegroupgap": 0
        },
        "template": {
         "data": {
          "bar": [
           {
            "error_x": {
             "color": "#2a3f5f"
            },
            "error_y": {
             "color": "#2a3f5f"
            },
            "marker": {
             "line": {
              "color": "white",
              "width": 0.5
             },
             "pattern": {
              "fillmode": "overlay",
              "size": 10,
              "solidity": 0.2
             }
            },
            "type": "bar"
           }
          ],
          "barpolar": [
           {
            "marker": {
             "line": {
              "color": "white",
              "width": 0.5
             },
             "pattern": {
              "fillmode": "overlay",
              "size": 10,
              "solidity": 0.2
             }
            },
            "type": "barpolar"
           }
          ],
          "carpet": [
           {
            "aaxis": {
             "endlinecolor": "#2a3f5f",
             "gridcolor": "#C8D4E3",
             "linecolor": "#C8D4E3",
             "minorgridcolor": "#C8D4E3",
             "startlinecolor": "#2a3f5f"
            },
            "baxis": {
             "endlinecolor": "#2a3f5f",
             "gridcolor": "#C8D4E3",
             "linecolor": "#C8D4E3",
             "minorgridcolor": "#C8D4E3",
             "startlinecolor": "#2a3f5f"
            },
            "type": "carpet"
           }
          ],
          "choropleth": [
           {
            "colorbar": {
             "outlinewidth": 0,
             "ticks": ""
            },
            "type": "choropleth"
           }
          ],
          "contour": [
           {
            "colorbar": {
             "outlinewidth": 0,
             "ticks": ""
            },
            "colorscale": [
             [
              0,
              "#0d0887"
             ],
             [
              0.1111111111111111,
              "#46039f"
             ],
             [
              0.2222222222222222,
              "#7201a8"
             ],
             [
              0.3333333333333333,
              "#9c179e"
             ],
             [
              0.4444444444444444,
              "#bd3786"
             ],
             [
              0.5555555555555556,
              "#d8576b"
             ],
             [
              0.6666666666666666,
              "#ed7953"
             ],
             [
              0.7777777777777778,
              "#fb9f3a"
             ],
             [
              0.8888888888888888,
              "#fdca26"
             ],
             [
              1,
              "#f0f921"
             ]
            ],
            "type": "contour"
           }
          ],
          "contourcarpet": [
           {
            "colorbar": {
             "outlinewidth": 0,
             "ticks": ""
            },
            "type": "contourcarpet"
           }
          ],
          "heatmap": [
           {
            "colorbar": {
             "outlinewidth": 0,
             "ticks": ""
            },
            "colorscale": [
             [
              0,
              "#0d0887"
             ],
             [
              0.1111111111111111,
              "#46039f"
             ],
             [
              0.2222222222222222,
              "#7201a8"
             ],
             [
              0.3333333333333333,
              "#9c179e"
             ],
             [
              0.4444444444444444,
              "#bd3786"
             ],
             [
              0.5555555555555556,
              "#d8576b"
             ],
             [
              0.6666666666666666,
              "#ed7953"
             ],
             [
              0.7777777777777778,
              "#fb9f3a"
             ],
             [
              0.8888888888888888,
              "#fdca26"
             ],
             [
              1,
              "#f0f921"
             ]
            ],
            "type": "heatmap"
           }
          ],
          "histogram": [
           {
            "marker": {
             "pattern": {
              "fillmode": "overlay",
              "size": 10,
              "solidity": 0.2
             }
            },
            "type": "histogram"
           }
          ],
          "histogram2d": [
           {
            "colorbar": {
             "outlinewidth": 0,
             "ticks": ""
            },
            "colorscale": [
             [
              0,
              "#0d0887"
             ],
             [
              0.1111111111111111,
              "#46039f"
             ],
             [
              0.2222222222222222,
              "#7201a8"
             ],
             [
              0.3333333333333333,
              "#9c179e"
             ],
             [
              0.4444444444444444,
              "#bd3786"
             ],
             [
              0.5555555555555556,
              "#d8576b"
             ],
             [
              0.6666666666666666,
              "#ed7953"
             ],
             [
              0.7777777777777778,
              "#fb9f3a"
             ],
             [
              0.8888888888888888,
              "#fdca26"
             ],
             [
              1,
              "#f0f921"
             ]
            ],
            "type": "histogram2d"
           }
          ],
          "histogram2dcontour": [
           {
            "colorbar": {
             "outlinewidth": 0,
             "ticks": ""
            },
            "colorscale": [
             [
              0,
              "#0d0887"
             ],
             [
              0.1111111111111111,
              "#46039f"
             ],
             [
              0.2222222222222222,
              "#7201a8"
             ],
             [
              0.3333333333333333,
              "#9c179e"
             ],
             [
              0.4444444444444444,
              "#bd3786"
             ],
             [
              0.5555555555555556,
              "#d8576b"
             ],
             [
              0.6666666666666666,
              "#ed7953"
             ],
             [
              0.7777777777777778,
              "#fb9f3a"
             ],
             [
              0.8888888888888888,
              "#fdca26"
             ],
             [
              1,
              "#f0f921"
             ]
            ],
            "type": "histogram2dcontour"
           }
          ],
          "mesh3d": [
           {
            "colorbar": {
             "outlinewidth": 0,
             "ticks": ""
            },
            "type": "mesh3d"
           }
          ],
          "parcoords": [
           {
            "line": {
             "colorbar": {
              "outlinewidth": 0,
              "ticks": ""
             }
            },
            "type": "parcoords"
           }
          ],
          "pie": [
           {
            "automargin": true,
            "type": "pie"
           }
          ],
          "scatter": [
           {
            "fillpattern": {
             "fillmode": "overlay",
             "size": 10,
             "solidity": 0.2
            },
            "type": "scatter"
           }
          ],
          "scatter3d": [
           {
            "line": {
             "colorbar": {
              "outlinewidth": 0,
              "ticks": ""
             }
            },
            "marker": {
             "colorbar": {
              "outlinewidth": 0,
              "ticks": ""
             }
            },
            "type": "scatter3d"
           }
          ],
          "scattercarpet": [
           {
            "marker": {
             "colorbar": {
              "outlinewidth": 0,
              "ticks": ""
             }
            },
            "type": "scattercarpet"
           }
          ],
          "scattergeo": [
           {
            "marker": {
             "colorbar": {
              "outlinewidth": 0,
              "ticks": ""
             }
            },
            "type": "scattergeo"
           }
          ],
          "scattergl": [
           {
            "marker": {
             "colorbar": {
              "outlinewidth": 0,
              "ticks": ""
             }
            },
            "type": "scattergl"
           }
          ],
          "scattermap": [
           {
            "marker": {
             "colorbar": {
              "outlinewidth": 0,
              "ticks": ""
             }
            },
            "type": "scattermap"
           }
          ],
          "scattermapbox": [
           {
            "marker": {
             "colorbar": {
              "outlinewidth": 0,
              "ticks": ""
             }
            },
            "type": "scattermapbox"
           }
          ],
          "scatterpolar": [
           {
            "marker": {
             "colorbar": {
              "outlinewidth": 0,
              "ticks": ""
             }
            },
            "type": "scatterpolar"
           }
          ],
          "scatterpolargl": [
           {
            "marker": {
             "colorbar": {
              "outlinewidth": 0,
              "ticks": ""
             }
            },
            "type": "scatterpolargl"
           }
          ],
          "scatterternary": [
           {
            "marker": {
             "colorbar": {
              "outlinewidth": 0,
              "ticks": ""
             }
            },
            "type": "scatterternary"
           }
          ],
          "surface": [
           {
            "colorbar": {
             "outlinewidth": 0,
             "ticks": ""
            },
            "colorscale": [
             [
              0,
              "#0d0887"
             ],
             [
              0.1111111111111111,
              "#46039f"
             ],
             [
              0.2222222222222222,
              "#7201a8"
             ],
             [
              0.3333333333333333,
              "#9c179e"
             ],
             [
              0.4444444444444444,
              "#bd3786"
             ],
             [
              0.5555555555555556,
              "#d8576b"
             ],
             [
              0.6666666666666666,
              "#ed7953"
             ],
             [
              0.7777777777777778,
              "#fb9f3a"
             ],
             [
              0.8888888888888888,
              "#fdca26"
             ],
             [
              1,
              "#f0f921"
             ]
            ],
            "type": "surface"
           }
          ],
          "table": [
           {
            "cells": {
             "fill": {
              "color": "#EBF0F8"
             },
             "line": {
              "color": "white"
             }
            },
            "header": {
             "fill": {
              "color": "#C8D4E3"
             },
             "line": {
              "color": "white"
             }
            },
            "type": "table"
           }
          ]
         },
         "layout": {
          "annotationdefaults": {
           "arrowcolor": "#2a3f5f",
           "arrowhead": 0,
           "arrowwidth": 1
          },
          "autotypenumbers": "strict",
          "coloraxis": {
           "colorbar": {
            "outlinewidth": 0,
            "ticks": ""
           }
          },
          "colorscale": {
           "diverging": [
            [
             0,
             "#8e0152"
            ],
            [
             0.1,
             "#c51b7d"
            ],
            [
             0.2,
             "#de77ae"
            ],
            [
             0.3,
             "#f1b6da"
            ],
            [
             0.4,
             "#fde0ef"
            ],
            [
             0.5,
             "#f7f7f7"
            ],
            [
             0.6,
             "#e6f5d0"
            ],
            [
             0.7,
             "#b8e186"
            ],
            [
             0.8,
             "#7fbc41"
            ],
            [
             0.9,
             "#4d9221"
            ],
            [
             1,
             "#276419"
            ]
           ],
           "sequential": [
            [
             0,
             "#0d0887"
            ],
            [
             0.1111111111111111,
             "#46039f"
            ],
            [
             0.2222222222222222,
             "#7201a8"
            ],
            [
             0.3333333333333333,
             "#9c179e"
            ],
            [
             0.4444444444444444,
             "#bd3786"
            ],
            [
             0.5555555555555556,
             "#d8576b"
            ],
            [
             0.6666666666666666,
             "#ed7953"
            ],
            [
             0.7777777777777778,
             "#fb9f3a"
            ],
            [
             0.8888888888888888,
             "#fdca26"
            ],
            [
             1,
             "#f0f921"
            ]
           ],
           "sequentialminus": [
            [
             0,
             "#0d0887"
            ],
            [
             0.1111111111111111,
             "#46039f"
            ],
            [
             0.2222222222222222,
             "#7201a8"
            ],
            [
             0.3333333333333333,
             "#9c179e"
            ],
            [
             0.4444444444444444,
             "#bd3786"
            ],
            [
             0.5555555555555556,
             "#d8576b"
            ],
            [
             0.6666666666666666,
             "#ed7953"
            ],
            [
             0.7777777777777778,
             "#fb9f3a"
            ],
            [
             0.8888888888888888,
             "#fdca26"
            ],
            [
             1,
             "#f0f921"
            ]
           ]
          },
          "colorway": [
           "#636efa",
           "#EF553B",
           "#00cc96",
           "#ab63fa",
           "#FFA15A",
           "#19d3f3",
           "#FF6692",
           "#B6E880",
           "#FF97FF",
           "#FECB52"
          ],
          "font": {
           "color": "#2a3f5f"
          },
          "geo": {
           "bgcolor": "white",
           "lakecolor": "white",
           "landcolor": "white",
           "showlakes": true,
           "showland": true,
           "subunitcolor": "#C8D4E3"
          },
          "hoverlabel": {
           "align": "left"
          },
          "hovermode": "closest",
          "mapbox": {
           "style": "light"
          },
          "paper_bgcolor": "white",
          "plot_bgcolor": "white",
          "polar": {
           "angularaxis": {
            "gridcolor": "#EBF0F8",
            "linecolor": "#EBF0F8",
            "ticks": ""
           },
           "bgcolor": "white",
           "radialaxis": {
            "gridcolor": "#EBF0F8",
            "linecolor": "#EBF0F8",
            "ticks": ""
           }
          },
          "scene": {
           "xaxis": {
            "backgroundcolor": "white",
            "gridcolor": "#DFE8F3",
            "gridwidth": 2,
            "linecolor": "#EBF0F8",
            "showbackground": true,
            "ticks": "",
            "zerolinecolor": "#EBF0F8"
           },
           "yaxis": {
            "backgroundcolor": "white",
            "gridcolor": "#DFE8F3",
            "gridwidth": 2,
            "linecolor": "#EBF0F8",
            "showbackground": true,
            "ticks": "",
            "zerolinecolor": "#EBF0F8"
           },
           "zaxis": {
            "backgroundcolor": "white",
            "gridcolor": "#DFE8F3",
            "gridwidth": 2,
            "linecolor": "#EBF0F8",
            "showbackground": true,
            "ticks": "",
            "zerolinecolor": "#EBF0F8"
           }
          },
          "shapedefaults": {
           "line": {
            "color": "#2a3f5f"
           }
          },
          "ternary": {
           "aaxis": {
            "gridcolor": "#DFE8F3",
            "linecolor": "#A2B1C6",
            "ticks": ""
           },
           "baxis": {
            "gridcolor": "#DFE8F3",
            "linecolor": "#A2B1C6",
            "ticks": ""
           },
           "bgcolor": "white",
           "caxis": {
            "gridcolor": "#DFE8F3",
            "linecolor": "#A2B1C6",
            "ticks": ""
           }
          },
          "title": {
           "x": 0.05
          },
          "xaxis": {
           "automargin": true,
           "gridcolor": "#EBF0F8",
           "linecolor": "#EBF0F8",
           "ticks": "",
           "title": {
            "standoff": 15
           },
           "zerolinecolor": "#EBF0F8",
           "zerolinewidth": 2
          },
          "yaxis": {
           "automargin": true,
           "gridcolor": "#EBF0F8",
           "linecolor": "#EBF0F8",
           "ticks": "",
           "title": {
            "standoff": 15
           },
           "zerolinecolor": "#EBF0F8",
           "zerolinewidth": 2
          }
         }
        },
        "title": {
         "text": "Unassisted Scoring % vs eFG% for NBA Guards"
        },
        "width": 800,
        "xaxis": {
         "anchor": "y",
         "domain": [
          0,
          1
         ],
         "title": {
          "text": "Unassisted Points (%)"
         }
        },
        "yaxis": {
         "anchor": "x",
         "domain": [
          0,
          1
         ],
         "title": {
          "text": "Effective Field Goal %"
         }
        }
       }
      }
     },
     "metadata": {},
     "output_type": "display_data"
    }
   ],
   "source": [
    "x = cleaned['Unassisted%']\n",
    "y = cleaned['eFG%']\n",
    "\n",
    "m, b = np.polyfit(x, y, 1)\n",
    "line_x = np.linspace(x.min(), x.max(), 100)\n",
    "line_y = m * line_x + b\n",
    "\n",
    "fig = px.scatter(\n",
    "    cleaned,\n",
    "    x='Unassisted%',\n",
    "    y='eFG%',\n",
    "    hover_name='Player',\n",
    "    title='Unassisted Scoring % vs eFG% for NBA Guards',\n",
    "    labels={\n",
    "        'Unassisted%': 'Unassisted Points (%)',\n",
    "        'eFG%': 'Effective Field Goal %'\n",
    "    },\n",
    "    width=800,\n",
    "    height=600\n",
    ")\n",
    "\n",
    "fig.add_trace(\n",
    "    go.Scatter(\n",
    "        x=line_x,\n",
    "        y=line_y,\n",
    "        mode='lines',\n",
    "        name='Trendline',\n",
    "        line=dict(color='red', dash='dash')\n",
    "    )\n",
    ")\n",
    "\n",
    "fig.update_layout(template='plotly_white')\n",
    "fig.show()\n"
   ]
  },
  {
   "cell_type": "code",
   "execution_count": 4,
   "metadata": {},
   "outputs": [
    {
     "data": {
      "application/vnd.plotly.v1+json": {
       "config": {
        "plotlyServerURL": "https://plot.ly"
       },
       "data": [
        {
         "hovertemplate": "<b>%{hovertext}</b><br><br>Catch and Shoot Points (%)=%{x}<br>Effective Field Goal %=%{y}<extra></extra>",
         "hovertext": [
          "Amen Thompson",
          "Andrew Nembhard",
          "Anfernee Simons",
          "Anthony Edwards",
          "Austin Reaves",
          "Bennedict Mathurin",
          "Bilal Coulibaly",
          "Bogdan Bogdanović",
          "Bradley Beal",
          "Brandin Podziemski",
          "Bub Carrington",
          "CJ McCollum",
          "Cade Cunningham",
          "Cason Wallace",
          "Chris Paul",
          "Christian Braun",
          "Coby White",
          "Collin Sexton",
          "D'Angelo Russell",
          "Damian Lillard",
          "Darius Garland",
          "Davion Mitchell",
          "De'Aaron Fox",
          "De'Andre Hunter",
          "DeMar DeRozan",
          "Dennis Schröder",
          "Derrick White",
          "Desmond Bane",
          "Devin Booker",
          "Devin Vassell",
          "Dillon Brooks",
          "Donovan Mitchell",
          "Donte DiVincenzo",
          "Dyson Daniels",
          "Fred VanVleet",
          "Gary Trent Jr.",
          "Gradey Dick",
          "Isaiah Collier",
          "Ja Morant",
          "Jalen Brunson",
          "Jalen Green",
          "Jalen Williams",
          "Jamal Murray",
          "James Harden",
          "Jaylen Brown",
          "Jayson Tatum",
          "Jordan Poole",
          "Josh Giddey",
          "Josh Green",
          "Josh Hart",
          "Jrue Holiday",
          "Kelly Oubre Jr.",
          "Kentavious Caldwell-Pope",
          "Keyonte George",
          "Klay Thompson",
          "Kyrie Irving",
          "Luguentz Dort",
          "Luka Dončić",
          "Malik Beasley",
          "Malik Monk",
          "Max Christie",
          "Max Strus",
          "Mikal Bridges",
          "Nickeil Alexander-Walker",
          "Norman Powell",
          "OG Anunoby",
          "Ochai Agbaji",
          "Payton Pritchard",
          "Quentin Grimes",
          "RJ Barrett",
          "Russell Westbrook",
          "Scoot Henderson",
          "Scottie Barnes",
          "Shaedon Sharpe",
          "Shai Gilgeous-Alexander",
          "Spencer Dinwiddie",
          "Stephen Curry",
          "Stephon Castle",
          "Terry Rozier",
          "Tim Hardaway Jr.",
          "Trae Young",
          "Tyler Herro",
          "Tyrese Haliburton",
          "Tyrese Maxey",
          "Tyus Jones",
          "Zach LaVine"
         ],
         "legendgroup": "",
         "marker": {
          "color": "#636efa",
          "symbol": "circle"
         },
         "mode": "markers",
         "name": "",
         "orientation": "v",
         "showlegend": false,
         "type": "scatter",
         "x": {
          "bdata": "UCSc0rz4sz/iehSuR+HKP2+s/kCPlNA/A3PtwFw7wD/4RhSYdGrOP1WKCbqrFMM/DhvpsJEOyz+qqqqqqqraP1FRUVFRUdE/1UM91EM91D8/NNaHxvrQP9TLSKyGi88/g7JCjH2AuT+3bdu2bdvWPxdddNFFF80/KMRZ+Qlxxj+hoKCgoKDQPzi96U1vesM/3LZt27Ztyz9vNHV+7SHHP0PTHey32sg/Q6Ujewai0j/dX/hUluLAP1hXV1dXV9c/HEyRz7rBxD9WnJCSZxnRP+J8DM7H4Nw/VlVVVVVVxz8AAAAAAADFP44XW4Jv89c/btu2bdu23T/v7u7u7u7GP1EP9VAP9eA/bdR3Nuo7yz9NriAmVxDTP04CcaHmJOA/OI7jOI7j2D9K8QKZFC/APwAAAAAAAMA/2Ymd2ImduD+amZmZmZnJP0J7Ce0ltMc/RWl8ZAK9wz9VVVVVVVW1P6g5CcSFmsM/Kme38KsxwT+4HI3L0bjMP4UKFSpUqNA/mCKfdYMp4j+XlpaWlpbGP49eGdvv6NU/4ORv8jf5yz/UCMs9jbDcP87zPM/zPM8/mpmZmZmZ4T9JlknPiGTJP2Nl+EYUmOQ/fyLhlObFvz8E3+avMKvhP9EX9AV9Qc8/AQAAAAAA3D9R39mo72zkP4suuuiii9Y/fGejvrNR3z8LB9Hju3DQP/RJn/RJn9Q/O7ETO7ET2z+d2Imd2IndP48fP378+NE/1MtIrIaLzz+Ovjn65ujLPw6Hw+FwOMw/7M5ktHjlwz9AYgF3+iPGP+/CQfT4Lqw/8pQgTwnyxD8bjpj2RAbSP3GlewPKxMU/O6QmGG9lzz9KkKcEeUrgP5Cc5mv17LA/2SqozcB0zT/kkUceeeTBP9spQ63CCME/8vDw8PDw4D9XMLT8CobGPw==",
          "dtype": "f8"
         },
         "xaxis": "x",
         "y": {
          "bdata": "ZmZmZmZm4j/+1HjpJjHgP3npJjEIrOA/Gy/dJAaB4T+YbhKDwMrhP1CNl24Sg+A/aZHtfD813j9KDAIrhxbhPxODwMqhReI/yXa+nxov4T9aZDvfT43fP/YoXI/C9eA/eekmMQis4D+amZmZmZnhPxsv3SQGgeE/fT81XrpJ5D+amZmZmZnhP8ZLN4lBYOE/Di2yne+n3j8bL90kBoHhP5ZDi2zn++E/bef7qfHS4T+mm8QgsHLgP7x0kxgEVuI/fT81XrpJ4D+28/3UeOneP4/C9Shcj+I/FK5H4XoU4j/NzMzMzMzgP6AaL90kBuE/dJMYBFYO4T/LoUW28/3gP5MYBFYOLeI/9P3UeOkm4T+28/3UeOneP5MYBFYOLeI/rBxaZDvf3z/GSzeJQWDdP1TjpZvEIOA/bxKDwMqh4T8pXI/C9SjgP8l2vp8aL+E/xks3iUFg4T/VeOkmMQjgP3sUrkfheuA/yXa+nxov4T+cxCCwcmjhP8uhRbbz/eA/xks3iUFg4T+6SQwCK4fiP53vp8ZLN+E/+n5qvHST4D/GSzeJQWDhPwrXo3A9Ct8/H4XrUbge4T/EILByaJHhP+XQItv5fuI/9P3UeOkm4T+6SQwCK4fiP9Ei2/l+auA/zczMzMzM4D81XrpJDALjPz0K16NwPeI/GARWDi2y4T/l0CLb+X7iPxbZzvdT4+E/YOXQItv54j/Xo3A9CtfjPxSuR+F6FOI/I9v5fmq84D8pXI/C9SjgP1g5tMh2vt8/DQIrhxbZ3j/P91PjpZvgP2iR7Xw/NeI/WDm0yHa+3z/o+6nx0k3iPxFYObTIdt4/xSCwcmiR3T8hsHJoke3gPwaBlUOLbN8/arx0kxgE4j86tMh2vp/iPycxCKwcWuA/PQrXo3A94j+wcmiR7XzjPw==",
          "dtype": "f8"
         },
         "yaxis": "y"
        },
        {
         "line": {
          "color": "red",
          "dash": "dash"
         },
         "mode": "lines",
         "name": "Trendline",
         "type": "scatter",
         "x": {
          "bdata": "78JB9PgurD+VFBmtJTqvPx4z+DKpIrE/8dtjjz+osj/EhM/r1S20P5ctO0hss7U/atampAI5tz89fxIBmb64PxAofl0vRLo/49DpucXJuz+2eVUWXE+9P4oiwXLy1L4/rmWWZ0QtwD8YOsyVD/DAP4EOAsTassE/6+I38qV1wj9Ut20gcTjDP76Lo048+8M/J2DZfAe+xD+RNA+r0oDFP/oIRdmdQ8Y/ZN16B2kGxz/OsbA1NMnHPzeG5mP/i8g/oVockspOyT8KL1LAlRHKP3QDiO5g1Mo/3de9HCyXyz9HrPNK91nMP7CAKXnCHM0/GlVfp43fzT+DKZXVWKLOP+39ygMkZc8/K2kAmfcT0D9gUxswXXXQP5U9NsfC1tA/ySdRXig40T/+EWz1jZnRPzP8hozz+tE/aOahI1lc0j+c0Ly6vr3SP9G611EkH9M/BqXy6ImA0z87jw2A7+HTP3B5KBdVQ9Q/pGNDrrqk1D/ZTV5FIAbVPw44edyFZ9U/QyKUc+vI1T94DK8KUSrWP6z2yaG2i9Y/4eDkOBzt1j8Wy//PgU7XP0u1Gmfnr9c/f581/kwR2D+0iVCVsnLYP+lzaywY1Ng/Hl6Gw3012T9SSKFa45bZP4cyvPFI+Nk/vBzXiK5Z2j/xBvIfFLvaPyXxDLd5HNs/WtsnTt992z+PxULlRN/bP8SvXXyqQNw/+Zl4ExCi3D8thJOqdQPdP2JurkHbZN0/l1jJ2EDG3T/MQuRvpifePwAt/wYMid4/NRcannHq3j9qATU110vfP5/rT8w8rd8/6Wq1MVEH4D8E4EL9AzjgPx5V0Mi2aOA/OcpdlGmZ4D9TP+tfHMrgP220eCvP+uA/iCkG94Er4T+inpPCNFzhP70TIY7njOE/14iuWZq94T/y/TslTe7hPwxzyfD/HuI/JuhWvLJP4j9BXeSHZYDiP1vScVMYseI/dUf/Hsvh4j+QvIzqfRLjP6oxGrYwQ+M/xaangeNz4z/fGzVNlqTjP/mQwhhJ1eM/FAZQ5PsF5D8ue92vrjbkP0nwanthZ+Q/Y2X4RhSY5D8=",
          "dtype": "f8"
         },
         "y": {
          "bdata": "ug+pxvmZ4D8rWXQ6I57gP5yiP65MouA/DuwKInam4D9/NdaVn6rgP/B+oQnJruA/YchsffKy4D/SETjxG7fgP0NbA2VFu+A/taTO2G6/4D8m7plMmMPgP5c3ZcDBx+A/CIEwNOvL4D95yvunFNDgP+oTxxs+1OA/XF2Sj2fY4D/Npl0DkdzgPz7wKHe64OA/rzn06uPk4D8gg79eDengP5LMitI27eA/AxZWRmDx4D90XyG6ifXgP+Wo7C2z+eA/VvK3odz94D/IO4MVBgLhPzmFTokvBuE/qs4Z/VgK4T8bGOVwgg7hP4xhsOSrEuE//ap7WNUW4T9v9EbM/hrhP+A9EkAoH+E/UYfds1Ej4T/C0KgneyfhPzMadJukK+E/pGM/D84v4T8WrQqD9zPhP4f21fYgOOE/+D+hako84T9piWzec0DhP9rSN1KdROE/TBwDxsZI4T+9Zc458EzhPy6vma0ZUeE/n/hkIUNV4T8QQjCVbFnhP4KL+wiWXeE/89TGfL9h4T9kHpLw6GXhP9VnXWQSauE/RrEo2Dtu4T+3+vNLZXLhPylEv7+OduE/mo2KM7h64T8L11Wn4X7hP3wgIRsLg+E/7WnsjjSH4T9es7cCXovhP9D8gnaHj+E/QUZO6rCT4T+yjxle2pfhPyPZ5NEDnOE/lCKwRS2g4T8GbHu5VqThP3e1Ri2AqOE/6P4Roams4T9ZSN0U07DhP8qRqIj8tOE/PNtz/CW54T+tJD9wT73hPx5uCuR4weE/j7fVV6LF4T8AAaHLy8nhP3FKbD/1zeE/4pM3sx7S4T9U3QInSNbhP8Umzppx2uE/NnCZDpve4T+nuWSCxOLhPxgDMPbt5uE/ikz7aRfr4T/7lcbdQO/hP2zfkVFq8+E/3ShdxZP34T9Ocig5vfvhP8C786zm/+E/MQW/IBAE4j+iToqUOQjiPxOYVQhjDOI/hOEgfIwQ4j/2KuzvtRTiP2d0t2PfGOI/2L2C1wgd4j9JB05LMiHiP7pQGb9bJeI/K5rkMoUp4j+d46+mri3iPw4texrYMeI/f3ZGjgE24j8=",
          "dtype": "f8"
         }
        }
       ],
       "layout": {
        "height": 600,
        "legend": {
         "tracegroupgap": 0
        },
        "template": {
         "data": {
          "bar": [
           {
            "error_x": {
             "color": "#2a3f5f"
            },
            "error_y": {
             "color": "#2a3f5f"
            },
            "marker": {
             "line": {
              "color": "white",
              "width": 0.5
             },
             "pattern": {
              "fillmode": "overlay",
              "size": 10,
              "solidity": 0.2
             }
            },
            "type": "bar"
           }
          ],
          "barpolar": [
           {
            "marker": {
             "line": {
              "color": "white",
              "width": 0.5
             },
             "pattern": {
              "fillmode": "overlay",
              "size": 10,
              "solidity": 0.2
             }
            },
            "type": "barpolar"
           }
          ],
          "carpet": [
           {
            "aaxis": {
             "endlinecolor": "#2a3f5f",
             "gridcolor": "#C8D4E3",
             "linecolor": "#C8D4E3",
             "minorgridcolor": "#C8D4E3",
             "startlinecolor": "#2a3f5f"
            },
            "baxis": {
             "endlinecolor": "#2a3f5f",
             "gridcolor": "#C8D4E3",
             "linecolor": "#C8D4E3",
             "minorgridcolor": "#C8D4E3",
             "startlinecolor": "#2a3f5f"
            },
            "type": "carpet"
           }
          ],
          "choropleth": [
           {
            "colorbar": {
             "outlinewidth": 0,
             "ticks": ""
            },
            "type": "choropleth"
           }
          ],
          "contour": [
           {
            "colorbar": {
             "outlinewidth": 0,
             "ticks": ""
            },
            "colorscale": [
             [
              0,
              "#0d0887"
             ],
             [
              0.1111111111111111,
              "#46039f"
             ],
             [
              0.2222222222222222,
              "#7201a8"
             ],
             [
              0.3333333333333333,
              "#9c179e"
             ],
             [
              0.4444444444444444,
              "#bd3786"
             ],
             [
              0.5555555555555556,
              "#d8576b"
             ],
             [
              0.6666666666666666,
              "#ed7953"
             ],
             [
              0.7777777777777778,
              "#fb9f3a"
             ],
             [
              0.8888888888888888,
              "#fdca26"
             ],
             [
              1,
              "#f0f921"
             ]
            ],
            "type": "contour"
           }
          ],
          "contourcarpet": [
           {
            "colorbar": {
             "outlinewidth": 0,
             "ticks": ""
            },
            "type": "contourcarpet"
           }
          ],
          "heatmap": [
           {
            "colorbar": {
             "outlinewidth": 0,
             "ticks": ""
            },
            "colorscale": [
             [
              0,
              "#0d0887"
             ],
             [
              0.1111111111111111,
              "#46039f"
             ],
             [
              0.2222222222222222,
              "#7201a8"
             ],
             [
              0.3333333333333333,
              "#9c179e"
             ],
             [
              0.4444444444444444,
              "#bd3786"
             ],
             [
              0.5555555555555556,
              "#d8576b"
             ],
             [
              0.6666666666666666,
              "#ed7953"
             ],
             [
              0.7777777777777778,
              "#fb9f3a"
             ],
             [
              0.8888888888888888,
              "#fdca26"
             ],
             [
              1,
              "#f0f921"
             ]
            ],
            "type": "heatmap"
           }
          ],
          "histogram": [
           {
            "marker": {
             "pattern": {
              "fillmode": "overlay",
              "size": 10,
              "solidity": 0.2
             }
            },
            "type": "histogram"
           }
          ],
          "histogram2d": [
           {
            "colorbar": {
             "outlinewidth": 0,
             "ticks": ""
            },
            "colorscale": [
             [
              0,
              "#0d0887"
             ],
             [
              0.1111111111111111,
              "#46039f"
             ],
             [
              0.2222222222222222,
              "#7201a8"
             ],
             [
              0.3333333333333333,
              "#9c179e"
             ],
             [
              0.4444444444444444,
              "#bd3786"
             ],
             [
              0.5555555555555556,
              "#d8576b"
             ],
             [
              0.6666666666666666,
              "#ed7953"
             ],
             [
              0.7777777777777778,
              "#fb9f3a"
             ],
             [
              0.8888888888888888,
              "#fdca26"
             ],
             [
              1,
              "#f0f921"
             ]
            ],
            "type": "histogram2d"
           }
          ],
          "histogram2dcontour": [
           {
            "colorbar": {
             "outlinewidth": 0,
             "ticks": ""
            },
            "colorscale": [
             [
              0,
              "#0d0887"
             ],
             [
              0.1111111111111111,
              "#46039f"
             ],
             [
              0.2222222222222222,
              "#7201a8"
             ],
             [
              0.3333333333333333,
              "#9c179e"
             ],
             [
              0.4444444444444444,
              "#bd3786"
             ],
             [
              0.5555555555555556,
              "#d8576b"
             ],
             [
              0.6666666666666666,
              "#ed7953"
             ],
             [
              0.7777777777777778,
              "#fb9f3a"
             ],
             [
              0.8888888888888888,
              "#fdca26"
             ],
             [
              1,
              "#f0f921"
             ]
            ],
            "type": "histogram2dcontour"
           }
          ],
          "mesh3d": [
           {
            "colorbar": {
             "outlinewidth": 0,
             "ticks": ""
            },
            "type": "mesh3d"
           }
          ],
          "parcoords": [
           {
            "line": {
             "colorbar": {
              "outlinewidth": 0,
              "ticks": ""
             }
            },
            "type": "parcoords"
           }
          ],
          "pie": [
           {
            "automargin": true,
            "type": "pie"
           }
          ],
          "scatter": [
           {
            "fillpattern": {
             "fillmode": "overlay",
             "size": 10,
             "solidity": 0.2
            },
            "type": "scatter"
           }
          ],
          "scatter3d": [
           {
            "line": {
             "colorbar": {
              "outlinewidth": 0,
              "ticks": ""
             }
            },
            "marker": {
             "colorbar": {
              "outlinewidth": 0,
              "ticks": ""
             }
            },
            "type": "scatter3d"
           }
          ],
          "scattercarpet": [
           {
            "marker": {
             "colorbar": {
              "outlinewidth": 0,
              "ticks": ""
             }
            },
            "type": "scattercarpet"
           }
          ],
          "scattergeo": [
           {
            "marker": {
             "colorbar": {
              "outlinewidth": 0,
              "ticks": ""
             }
            },
            "type": "scattergeo"
           }
          ],
          "scattergl": [
           {
            "marker": {
             "colorbar": {
              "outlinewidth": 0,
              "ticks": ""
             }
            },
            "type": "scattergl"
           }
          ],
          "scattermap": [
           {
            "marker": {
             "colorbar": {
              "outlinewidth": 0,
              "ticks": ""
             }
            },
            "type": "scattermap"
           }
          ],
          "scattermapbox": [
           {
            "marker": {
             "colorbar": {
              "outlinewidth": 0,
              "ticks": ""
             }
            },
            "type": "scattermapbox"
           }
          ],
          "scatterpolar": [
           {
            "marker": {
             "colorbar": {
              "outlinewidth": 0,
              "ticks": ""
             }
            },
            "type": "scatterpolar"
           }
          ],
          "scatterpolargl": [
           {
            "marker": {
             "colorbar": {
              "outlinewidth": 0,
              "ticks": ""
             }
            },
            "type": "scatterpolargl"
           }
          ],
          "scatterternary": [
           {
            "marker": {
             "colorbar": {
              "outlinewidth": 0,
              "ticks": ""
             }
            },
            "type": "scatterternary"
           }
          ],
          "surface": [
           {
            "colorbar": {
             "outlinewidth": 0,
             "ticks": ""
            },
            "colorscale": [
             [
              0,
              "#0d0887"
             ],
             [
              0.1111111111111111,
              "#46039f"
             ],
             [
              0.2222222222222222,
              "#7201a8"
             ],
             [
              0.3333333333333333,
              "#9c179e"
             ],
             [
              0.4444444444444444,
              "#bd3786"
             ],
             [
              0.5555555555555556,
              "#d8576b"
             ],
             [
              0.6666666666666666,
              "#ed7953"
             ],
             [
              0.7777777777777778,
              "#fb9f3a"
             ],
             [
              0.8888888888888888,
              "#fdca26"
             ],
             [
              1,
              "#f0f921"
             ]
            ],
            "type": "surface"
           }
          ],
          "table": [
           {
            "cells": {
             "fill": {
              "color": "#EBF0F8"
             },
             "line": {
              "color": "white"
             }
            },
            "header": {
             "fill": {
              "color": "#C8D4E3"
             },
             "line": {
              "color": "white"
             }
            },
            "type": "table"
           }
          ]
         },
         "layout": {
          "annotationdefaults": {
           "arrowcolor": "#2a3f5f",
           "arrowhead": 0,
           "arrowwidth": 1
          },
          "autotypenumbers": "strict",
          "coloraxis": {
           "colorbar": {
            "outlinewidth": 0,
            "ticks": ""
           }
          },
          "colorscale": {
           "diverging": [
            [
             0,
             "#8e0152"
            ],
            [
             0.1,
             "#c51b7d"
            ],
            [
             0.2,
             "#de77ae"
            ],
            [
             0.3,
             "#f1b6da"
            ],
            [
             0.4,
             "#fde0ef"
            ],
            [
             0.5,
             "#f7f7f7"
            ],
            [
             0.6,
             "#e6f5d0"
            ],
            [
             0.7,
             "#b8e186"
            ],
            [
             0.8,
             "#7fbc41"
            ],
            [
             0.9,
             "#4d9221"
            ],
            [
             1,
             "#276419"
            ]
           ],
           "sequential": [
            [
             0,
             "#0d0887"
            ],
            [
             0.1111111111111111,
             "#46039f"
            ],
            [
             0.2222222222222222,
             "#7201a8"
            ],
            [
             0.3333333333333333,
             "#9c179e"
            ],
            [
             0.4444444444444444,
             "#bd3786"
            ],
            [
             0.5555555555555556,
             "#d8576b"
            ],
            [
             0.6666666666666666,
             "#ed7953"
            ],
            [
             0.7777777777777778,
             "#fb9f3a"
            ],
            [
             0.8888888888888888,
             "#fdca26"
            ],
            [
             1,
             "#f0f921"
            ]
           ],
           "sequentialminus": [
            [
             0,
             "#0d0887"
            ],
            [
             0.1111111111111111,
             "#46039f"
            ],
            [
             0.2222222222222222,
             "#7201a8"
            ],
            [
             0.3333333333333333,
             "#9c179e"
            ],
            [
             0.4444444444444444,
             "#bd3786"
            ],
            [
             0.5555555555555556,
             "#d8576b"
            ],
            [
             0.6666666666666666,
             "#ed7953"
            ],
            [
             0.7777777777777778,
             "#fb9f3a"
            ],
            [
             0.8888888888888888,
             "#fdca26"
            ],
            [
             1,
             "#f0f921"
            ]
           ]
          },
          "colorway": [
           "#636efa",
           "#EF553B",
           "#00cc96",
           "#ab63fa",
           "#FFA15A",
           "#19d3f3",
           "#FF6692",
           "#B6E880",
           "#FF97FF",
           "#FECB52"
          ],
          "font": {
           "color": "#2a3f5f"
          },
          "geo": {
           "bgcolor": "white",
           "lakecolor": "white",
           "landcolor": "white",
           "showlakes": true,
           "showland": true,
           "subunitcolor": "#C8D4E3"
          },
          "hoverlabel": {
           "align": "left"
          },
          "hovermode": "closest",
          "mapbox": {
           "style": "light"
          },
          "paper_bgcolor": "white",
          "plot_bgcolor": "white",
          "polar": {
           "angularaxis": {
            "gridcolor": "#EBF0F8",
            "linecolor": "#EBF0F8",
            "ticks": ""
           },
           "bgcolor": "white",
           "radialaxis": {
            "gridcolor": "#EBF0F8",
            "linecolor": "#EBF0F8",
            "ticks": ""
           }
          },
          "scene": {
           "xaxis": {
            "backgroundcolor": "white",
            "gridcolor": "#DFE8F3",
            "gridwidth": 2,
            "linecolor": "#EBF0F8",
            "showbackground": true,
            "ticks": "",
            "zerolinecolor": "#EBF0F8"
           },
           "yaxis": {
            "backgroundcolor": "white",
            "gridcolor": "#DFE8F3",
            "gridwidth": 2,
            "linecolor": "#EBF0F8",
            "showbackground": true,
            "ticks": "",
            "zerolinecolor": "#EBF0F8"
           },
           "zaxis": {
            "backgroundcolor": "white",
            "gridcolor": "#DFE8F3",
            "gridwidth": 2,
            "linecolor": "#EBF0F8",
            "showbackground": true,
            "ticks": "",
            "zerolinecolor": "#EBF0F8"
           }
          },
          "shapedefaults": {
           "line": {
            "color": "#2a3f5f"
           }
          },
          "ternary": {
           "aaxis": {
            "gridcolor": "#DFE8F3",
            "linecolor": "#A2B1C6",
            "ticks": ""
           },
           "baxis": {
            "gridcolor": "#DFE8F3",
            "linecolor": "#A2B1C6",
            "ticks": ""
           },
           "bgcolor": "white",
           "caxis": {
            "gridcolor": "#DFE8F3",
            "linecolor": "#A2B1C6",
            "ticks": ""
           }
          },
          "title": {
           "x": 0.05
          },
          "xaxis": {
           "automargin": true,
           "gridcolor": "#EBF0F8",
           "linecolor": "#EBF0F8",
           "ticks": "",
           "title": {
            "standoff": 15
           },
           "zerolinecolor": "#EBF0F8",
           "zerolinewidth": 2
          },
          "yaxis": {
           "automargin": true,
           "gridcolor": "#EBF0F8",
           "linecolor": "#EBF0F8",
           "ticks": "",
           "title": {
            "standoff": 15
           },
           "zerolinecolor": "#EBF0F8",
           "zerolinewidth": 2
          }
         }
        },
        "title": {
         "text": "Unassisted Scoring % vs eFG% for NBA Guards"
        },
        "width": 800,
        "xaxis": {
         "anchor": "y",
         "domain": [
          0,
          1
         ],
         "title": {
          "text": "Catch and Shoot Points (%)"
         }
        },
        "yaxis": {
         "anchor": "x",
         "domain": [
          0,
          1
         ],
         "title": {
          "text": "Effective Field Goal %"
         }
        }
       }
      }
     },
     "metadata": {},
     "output_type": "display_data"
    }
   ],
   "source": [
    "x = cleaned['C&S%']\n",
    "y = cleaned['eFG%']\n",
    "\n",
    "m, b = np.polyfit(x, y, 1)\n",
    "line_x = np.linspace(x.min(), x.max(), 100)\n",
    "line_y = m * line_x + b\n",
    "\n",
    "fig = px.scatter(\n",
    "    cleaned,\n",
    "    x='C&S%',\n",
    "    y='eFG%',\n",
    "    hover_name='Player',\n",
    "    title='Unassisted Scoring % vs eFG% for NBA Guards',\n",
    "    labels={\n",
    "        'C&S%': 'Catch and Shoot Points (%)',\n",
    "        'eFG%': 'Effective Field Goal %'\n",
    "    },\n",
    "    width=800,\n",
    "    height=600\n",
    ")\n",
    "\n",
    "fig.add_trace(\n",
    "    go.Scatter(\n",
    "        x=line_x,\n",
    "        y=line_y,\n",
    "        mode='lines',\n",
    "        name='Trendline',\n",
    "        line=dict(color='red', dash='dash')\n",
    "    )\n",
    ")\n",
    "\n",
    "fig.update_layout(template='plotly_white')\n",
    "fig.show()\n"
   ]
  },
  {
   "cell_type": "code",
   "execution_count": null,
   "metadata": {},
   "outputs": [],
   "source": []
  }
 ],
 "metadata": {
  "kernelspec": {
   "display_name": "Python 3",
   "language": "python",
   "name": "python3"
  },
  "language_info": {
   "codemirror_mode": {
    "name": "ipython",
    "version": 3
   },
   "file_extension": ".py",
   "mimetype": "text/x-python",
   "name": "python",
   "nbconvert_exporter": "python",
   "pygments_lexer": "ipython3",
   "version": "3.12.3"
  }
 },
 "nbformat": 4,
 "nbformat_minor": 2
}
