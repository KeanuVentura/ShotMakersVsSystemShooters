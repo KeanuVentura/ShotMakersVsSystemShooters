{
 "cells": [
  {
   "cell_type": "code",
   "execution_count": 24,
   "metadata": {},
   "outputs": [],
   "source": [
    "import pandas as pd\n",
    "import numpy as np\n",
    "import matplotlib.pyplot as plt\n",
    "import seaborn as sns\n",
    "import plotly.express as px\n",
    "import plotly.graph_objects as go"
   ]
  },
  {
   "cell_type": "code",
   "execution_count": 25,
   "metadata": {},
   "outputs": [
    {
     "data": {
      "text/html": [
       "<div>\n",
       "<style scoped>\n",
       "    .dataframe tbody tr th:only-of-type {\n",
       "        vertical-align: middle;\n",
       "    }\n",
       "\n",
       "    .dataframe tbody tr th {\n",
       "        vertical-align: top;\n",
       "    }\n",
       "\n",
       "    .dataframe thead th {\n",
       "        text-align: right;\n",
       "    }\n",
       "</style>\n",
       "<table border=\"1\" class=\"dataframe\">\n",
       "  <thead>\n",
       "    <tr style=\"text-align: right;\">\n",
       "      <th></th>\n",
       "      <th>Player</th>\n",
       "      <th>GP</th>\n",
       "      <th>MIN</th>\n",
       "      <th>PPG</th>\n",
       "      <th>C&amp;S PTS</th>\n",
       "      <th>C&amp;S FG%</th>\n",
       "      <th>PU PTS</th>\n",
       "      <th>PU FG%</th>\n",
       "      <th>eFG%</th>\n",
       "      <th>Shot Quality</th>\n",
       "      <th>Assisted 2s</th>\n",
       "      <th>Unassisted 2s</th>\n",
       "      <th>Assisted 3s</th>\n",
       "      <th>Unassisted 3s</th>\n",
       "      <th>Unassisted PTS</th>\n",
       "      <th>Unassisted%</th>\n",
       "      <th>Gap</th>\n",
       "    </tr>\n",
       "  </thead>\n",
       "  <tbody>\n",
       "    <tr>\n",
       "      <th>0</th>\n",
       "      <td>Amen Thompson</td>\n",
       "      <td>69</td>\n",
       "      <td>32.3</td>\n",
       "      <td>14.1</td>\n",
       "      <td>1.1</td>\n",
       "      <td>0.292</td>\n",
       "      <td>1.0</td>\n",
       "      <td>0.354</td>\n",
       "      <td>0.575</td>\n",
       "      <td>0.56</td>\n",
       "      <td>5.51</td>\n",
       "      <td>5.01</td>\n",
       "      <td>1.04</td>\n",
       "      <td>0.04</td>\n",
       "      <td>5.05</td>\n",
       "      <td>0.358156</td>\n",
       "      <td>0.015</td>\n",
       "    </tr>\n",
       "    <tr>\n",
       "      <th>1</th>\n",
       "      <td>Andrew Nembhard</td>\n",
       "      <td>65</td>\n",
       "      <td>28.9</td>\n",
       "      <td>10.0</td>\n",
       "      <td>2.1</td>\n",
       "      <td>0.321</td>\n",
       "      <td>2.8</td>\n",
       "      <td>0.432</td>\n",
       "      <td>0.506</td>\n",
       "      <td>0.51</td>\n",
       "      <td>2.86</td>\n",
       "      <td>3.17</td>\n",
       "      <td>1.94</td>\n",
       "      <td>0.42</td>\n",
       "      <td>3.59</td>\n",
       "      <td>0.359000</td>\n",
       "      <td>-0.004</td>\n",
       "    </tr>\n",
       "    <tr>\n",
       "      <th>2</th>\n",
       "      <td>Anfernee Simons</td>\n",
       "      <td>70</td>\n",
       "      <td>32.7</td>\n",
       "      <td>19.3</td>\n",
       "      <td>5.0</td>\n",
       "      <td>0.377</td>\n",
       "      <td>6.9</td>\n",
       "      <td>0.383</td>\n",
       "      <td>0.521</td>\n",
       "      <td>0.51</td>\n",
       "      <td>1.40</td>\n",
       "      <td>6.14</td>\n",
       "      <td>5.61</td>\n",
       "      <td>3.60</td>\n",
       "      <td>9.74</td>\n",
       "      <td>0.504663</td>\n",
       "      <td>0.011</td>\n",
       "    </tr>\n",
       "    <tr>\n",
       "      <th>3</th>\n",
       "      <td>Anthony Edwards</td>\n",
       "      <td>79</td>\n",
       "      <td>36.3</td>\n",
       "      <td>27.6</td>\n",
       "      <td>3.5</td>\n",
       "      <td>0.422</td>\n",
       "      <td>11.3</td>\n",
       "      <td>0.378</td>\n",
       "      <td>0.547</td>\n",
       "      <td>0.54</td>\n",
       "      <td>3.90</td>\n",
       "      <td>6.25</td>\n",
       "      <td>5.77</td>\n",
       "      <td>6.38</td>\n",
       "      <td>12.63</td>\n",
       "      <td>0.457609</td>\n",
       "      <td>0.007</td>\n",
       "    </tr>\n",
       "    <tr>\n",
       "      <th>4</th>\n",
       "      <td>Austin Reaves</td>\n",
       "      <td>73</td>\n",
       "      <td>34.9</td>\n",
       "      <td>20.2</td>\n",
       "      <td>4.8</td>\n",
       "      <td>0.400</td>\n",
       "      <td>5.3</td>\n",
       "      <td>0.384</td>\n",
       "      <td>0.556</td>\n",
       "      <td>0.52</td>\n",
       "      <td>3.34</td>\n",
       "      <td>4.25</td>\n",
       "      <td>5.92</td>\n",
       "      <td>2.30</td>\n",
       "      <td>6.55</td>\n",
       "      <td>0.324257</td>\n",
       "      <td>0.036</td>\n",
       "    </tr>\n",
       "    <tr>\n",
       "      <th>...</th>\n",
       "      <td>...</td>\n",
       "      <td>...</td>\n",
       "      <td>...</td>\n",
       "      <td>...</td>\n",
       "      <td>...</td>\n",
       "      <td>...</td>\n",
       "      <td>...</td>\n",
       "      <td>...</td>\n",
       "      <td>...</td>\n",
       "      <td>...</td>\n",
       "      <td>...</td>\n",
       "      <td>...</td>\n",
       "      <td>...</td>\n",
       "      <td>...</td>\n",
       "      <td>...</td>\n",
       "      <td>...</td>\n",
       "      <td>...</td>\n",
       "    </tr>\n",
       "    <tr>\n",
       "      <th>81</th>\n",
       "      <td>Tyler Herro</td>\n",
       "      <td>77</td>\n",
       "      <td>35.4</td>\n",
       "      <td>23.9</td>\n",
       "      <td>5.5</td>\n",
       "      <td>0.401</td>\n",
       "      <td>8.1</td>\n",
       "      <td>0.429</td>\n",
       "      <td>0.563</td>\n",
       "      <td>0.52</td>\n",
       "      <td>3.92</td>\n",
       "      <td>6.47</td>\n",
       "      <td>7.36</td>\n",
       "      <td>2.42</td>\n",
       "      <td>8.89</td>\n",
       "      <td>0.371967</td>\n",
       "      <td>0.043</td>\n",
       "    </tr>\n",
       "    <tr>\n",
       "      <th>82</th>\n",
       "      <td>Tyrese Haliburton</td>\n",
       "      <td>73</td>\n",
       "      <td>33.6</td>\n",
       "      <td>18.6</td>\n",
       "      <td>2.6</td>\n",
       "      <td>0.424</td>\n",
       "      <td>9.1</td>\n",
       "      <td>0.413</td>\n",
       "      <td>0.582</td>\n",
       "      <td>0.52</td>\n",
       "      <td>2.77</td>\n",
       "      <td>4.30</td>\n",
       "      <td>4.73</td>\n",
       "      <td>4.23</td>\n",
       "      <td>8.53</td>\n",
       "      <td>0.458602</td>\n",
       "      <td>0.062</td>\n",
       "    </tr>\n",
       "    <tr>\n",
       "      <th>83</th>\n",
       "      <td>Tyrese Maxey</td>\n",
       "      <td>52</td>\n",
       "      <td>37.7</td>\n",
       "      <td>26.3</td>\n",
       "      <td>3.5</td>\n",
       "      <td>0.355</td>\n",
       "      <td>8.7</td>\n",
       "      <td>0.371</td>\n",
       "      <td>0.511</td>\n",
       "      <td>0.54</td>\n",
       "      <td>3.73</td>\n",
       "      <td>8.42</td>\n",
       "      <td>4.56</td>\n",
       "      <td>4.73</td>\n",
       "      <td>13.15</td>\n",
       "      <td>0.500000</td>\n",
       "      <td>-0.029</td>\n",
       "    </tr>\n",
       "    <tr>\n",
       "      <th>84</th>\n",
       "      <td>Tyus Jones</td>\n",
       "      <td>81</td>\n",
       "      <td>26.8</td>\n",
       "      <td>10.2</td>\n",
       "      <td>5.4</td>\n",
       "      <td>0.435</td>\n",
       "      <td>2.2</td>\n",
       "      <td>0.394</td>\n",
       "      <td>0.570</td>\n",
       "      <td>0.52</td>\n",
       "      <td>1.36</td>\n",
       "      <td>2.10</td>\n",
       "      <td>5.37</td>\n",
       "      <td>0.78</td>\n",
       "      <td>2.88</td>\n",
       "      <td>0.282353</td>\n",
       "      <td>0.050</td>\n",
       "    </tr>\n",
       "    <tr>\n",
       "      <th>85</th>\n",
       "      <td>Zach LaVine</td>\n",
       "      <td>74</td>\n",
       "      <td>35.2</td>\n",
       "      <td>23.3</td>\n",
       "      <td>4.1</td>\n",
       "      <td>0.444</td>\n",
       "      <td>8.2</td>\n",
       "      <td>0.426</td>\n",
       "      <td>0.609</td>\n",
       "      <td>0.57</td>\n",
       "      <td>5.10</td>\n",
       "      <td>5.71</td>\n",
       "      <td>5.00</td>\n",
       "      <td>4.71</td>\n",
       "      <td>10.42</td>\n",
       "      <td>0.447210</td>\n",
       "      <td>0.039</td>\n",
       "    </tr>\n",
       "  </tbody>\n",
       "</table>\n",
       "<p>86 rows × 17 columns</p>\n",
       "</div>"
      ],
      "text/plain": [
       "               Player  GP   MIN   PPG  C&S PTS  C&S FG%  PU PTS  PU FG%  \\\n",
       "0       Amen Thompson  69  32.3  14.1      1.1    0.292     1.0   0.354   \n",
       "1     Andrew Nembhard  65  28.9  10.0      2.1    0.321     2.8   0.432   \n",
       "2     Anfernee Simons  70  32.7  19.3      5.0    0.377     6.9   0.383   \n",
       "3     Anthony Edwards  79  36.3  27.6      3.5    0.422    11.3   0.378   \n",
       "4       Austin Reaves  73  34.9  20.2      4.8    0.400     5.3   0.384   \n",
       "..                ...  ..   ...   ...      ...      ...     ...     ...   \n",
       "81        Tyler Herro  77  35.4  23.9      5.5    0.401     8.1   0.429   \n",
       "82  Tyrese Haliburton  73  33.6  18.6      2.6    0.424     9.1   0.413   \n",
       "83       Tyrese Maxey  52  37.7  26.3      3.5    0.355     8.7   0.371   \n",
       "84         Tyus Jones  81  26.8  10.2      5.4    0.435     2.2   0.394   \n",
       "85        Zach LaVine  74  35.2  23.3      4.1    0.444     8.2   0.426   \n",
       "\n",
       "     eFG%  Shot Quality  Assisted 2s  Unassisted 2s  Assisted 3s  \\\n",
       "0   0.575          0.56         5.51           5.01         1.04   \n",
       "1   0.506          0.51         2.86           3.17         1.94   \n",
       "2   0.521          0.51         1.40           6.14         5.61   \n",
       "3   0.547          0.54         3.90           6.25         5.77   \n",
       "4   0.556          0.52         3.34           4.25         5.92   \n",
       "..    ...           ...          ...            ...          ...   \n",
       "81  0.563          0.52         3.92           6.47         7.36   \n",
       "82  0.582          0.52         2.77           4.30         4.73   \n",
       "83  0.511          0.54         3.73           8.42         4.56   \n",
       "84  0.570          0.52         1.36           2.10         5.37   \n",
       "85  0.609          0.57         5.10           5.71         5.00   \n",
       "\n",
       "    Unassisted 3s  Unassisted PTS  Unassisted%    Gap  \n",
       "0            0.04            5.05     0.358156  0.015  \n",
       "1            0.42            3.59     0.359000 -0.004  \n",
       "2            3.60            9.74     0.504663  0.011  \n",
       "3            6.38           12.63     0.457609  0.007  \n",
       "4            2.30            6.55     0.324257  0.036  \n",
       "..            ...             ...          ...    ...  \n",
       "81           2.42            8.89     0.371967  0.043  \n",
       "82           4.23            8.53     0.458602  0.062  \n",
       "83           4.73           13.15     0.500000 -0.029  \n",
       "84           0.78            2.88     0.282353  0.050  \n",
       "85           4.71           10.42     0.447210  0.039  \n",
       "\n",
       "[86 rows x 17 columns]"
      ]
     },
     "execution_count": 25,
     "metadata": {},
     "output_type": "execute_result"
    }
   ],
   "source": [
    "raw_df = pd.read_csv('nba_stats_dataset.csv')\n",
    "\n",
    "columns_to_keep = [\n",
    "    'PLAYER', 'GP', 'MIN', 'PTS', \n",
    "    'C&S\\nPTS', 'C&S\\nFG%', \n",
    "    'Pull Up\\nPTS', 'Pull Up\\nFG%', \n",
    "    'eFG%', 'Shot Quality', \n",
    "    'Assisted 2s\\n PTS', 'Unassisted 2s\\n PTS',\n",
    "    'Assisted 3s\\n PTS', 'Unassisted 3s\\n PTS'\n",
    "]\n",
    "\n",
    "cleaned = raw_df[columns_to_keep].copy()\n",
    "\n",
    "cleaned.columns = [\n",
    "    'Player', 'GP', 'MIN', 'PPG',\n",
    "    'C&S PTS', 'C&S FG%',\n",
    "    'PU PTS', 'PU FG%',\n",
    "    'eFG%', 'Shot Quality',\n",
    "    'Assisted 2s', 'Unassisted 2s',\n",
    "    'Assisted 3s', 'Unassisted 3s'\n",
    "]\n",
    "\n",
    "percent_cols = ['C&S FG%', 'eFG%', 'PU FG%']\n",
    "\n",
    "for col in percent_cols:\n",
    "    cleaned[col] = cleaned[col].astype(str).str.rstrip('%').astype(float) / 100\n",
    "\n",
    "Unassisted_PTS = cleaned['Unassisted 2s'] + cleaned['Unassisted 3s']\n",
    "cleaned['Unassisted PTS'] = Unassisted_PTS\n",
    "cleaned['Unassisted%'] = cleaned['Unassisted PTS'] / cleaned['PPG']\n",
    "cleaned['Gap'] = cleaned['eFG%'] - cleaned['Shot Quality']\n",
    "\n",
    "cleaned\n",
    "\n"
   ]
  },
  {
   "cell_type": "code",
   "execution_count": 28,
   "metadata": {},
   "outputs": [
    {
     "data": {
      "application/vnd.plotly.v1+json": {
       "config": {
        "plotlyServerURL": "https://plot.ly"
       },
       "data": [
        {
         "hovertemplate": "<b>%{hovertext}</b><br><br>Shot Quality (Expected eFG%)=%{x}<br>Actual eFG%=%{y}<extra></extra>",
         "hovertext": [
          "Amen Thompson",
          "Andrew Nembhard",
          "Anfernee Simons",
          "Anthony Edwards",
          "Austin Reaves",
          "Bennedict Mathurin",
          "Bilal Coulibaly",
          "Bogdan Bogdanović",
          "Bradley Beal",
          "Brandin Podziemski",
          "Bub Carrington",
          "CJ McCollum",
          "Cade Cunningham",
          "Cason Wallace",
          "Chris Paul",
          "Christian Braun",
          "Coby White",
          "Collin Sexton",
          "D'Angelo Russell",
          "Damian Lillard",
          "Darius Garland",
          "Davion Mitchell",
          "De'Aaron Fox",
          "De'Andre Hunter",
          "DeMar DeRozan",
          "Dennis Schröder",
          "Derrick White",
          "Desmond Bane",
          "Devin Booker",
          "Devin Vassell",
          "Dillon Brooks",
          "Donovan Mitchell",
          "Donte DiVincenzo",
          "Dyson Daniels",
          "Fred VanVleet",
          "Gary Trent Jr.",
          "Gradey Dick",
          "Isaiah Collier",
          "Ja Morant",
          "Jalen Brunson",
          "Jalen Green",
          "Jalen Williams",
          "Jamal Murray",
          "James Harden",
          "Jaylen Brown",
          "Jayson Tatum",
          "Jordan Poole",
          "Josh Giddey",
          "Josh Green",
          "Josh Hart",
          "Jrue Holiday",
          "Kelly Oubre Jr.",
          "Kentavious Caldwell-Pope",
          "Keyonte George",
          "Klay Thompson",
          "Kyrie Irving",
          "Luguentz Dort",
          "Luka Dončić",
          "Malik Beasley",
          "Malik Monk",
          "Max Christie",
          "Max Strus",
          "Mikal Bridges",
          "Nickeil Alexander-Walker",
          "Norman Powell",
          "OG Anunoby",
          "Ochai Agbaji",
          "Payton Pritchard",
          "Quentin Grimes",
          "RJ Barrett",
          "Russell Westbrook",
          "Scoot Henderson",
          "Scottie Barnes",
          "Shaedon Sharpe",
          "Shai Gilgeous-Alexander",
          "Spencer Dinwiddie",
          "Stephen Curry",
          "Stephon Castle",
          "Terry Rozier",
          "Tim Hardaway Jr.",
          "Trae Young",
          "Tyler Herro",
          "Tyrese Haliburton",
          "Tyrese Maxey",
          "Tyus Jones",
          "Zach LaVine"
         ],
         "legendgroup": "",
         "marker": {
          "color": "#636efa",
          "symbol": "circle"
         },
         "mode": "markers",
         "name": "",
         "orientation": "v",
         "showlegend": false,
         "type": "scatter",
         "x": {
          "bdata": "7FG4HoXr4T9SuB6F61HgP1K4HoXrUeA/SOF6FK5H4T+kcD0K16PgP0jhehSuR+E/mpmZmZmZ4T+amZmZmZnhP6RwPQrXo+A/UrgehetR4D9SuB6F61HgP6RwPQrXo+A/UrgehetR4D89CtejcD3iP1K4HoXrUeA/4XoUrkfh4j+amZmZmZnhP1K4HoXrUeA/pHA9Ctej4D9I4XoUrkfhP/YoXI/C9eA/7FG4HoXr4T9SuB6F61HgP0jhehSuR+E/cT0K16Nw3T8AAAAAAADgP0jhehSuR+E/9ihcj8L14D9SuB6F61HgP/YoXI/C9eA/pHA9Ctej4D/2KFyPwvXgP5qZmZmZmeE/mpmZmZmZ4T9SuB6F61HgP/YoXI/C9eA/mpmZmZmZ4T/2KFyPwvXgP/YoXI/C9eA/UrgehetR4D/2KFyPwvXgP/YoXI/C9eA/UrgehetR4D9SuB6F61HgP6RwPQrXo+A/9ihcj8L14D9I4XoUrkfhP5qZmZmZmeE/PQrXo3A94j+PwvUoXI/iP0jhehSuR+E/7FG4HoXr4T9I4XoUrkfhPwAAAAAAAOA/9ihcj8L14D9SuB6F61HgP+xRuB6F6+E/UrgehetR4D/2KFyPwvXgP6RwPQrXo+A/SOF6FK5H4T89CtejcD3iP0jhehSuR+E/mpmZmZmZ4T/2KFyPwvXgP+F6FK5H4eI/hetRuB6F4z/2KFyPwvXgP+xRuB6F6+E/PQrXo3A94j/sUbgehevhP0jhehSuR+E/pHA9Ctej4D+amZmZmZnhP6RwPQrXo+A/UrgehetR4D+kcD0K16PgP+xRuB6F6+E/SOF6FK5H4T9I4XoUrkfhP1K4HoXrUeA/pHA9Ctej4D+kcD0K16PgP0jhehSuR+E/pHA9Ctej4D89CtejcD3iPw==",
          "dtype": "f8"
         },
         "xaxis": "x",
         "y": {
          "bdata": "ZmZmZmZm4j/+1HjpJjHgP3npJjEIrOA/Gy/dJAaB4T+YbhKDwMrhP1CNl24Sg+A/aZHtfD813j9KDAIrhxbhPxODwMqhReI/yXa+nxov4T9aZDvfT43fP/YoXI/C9eA/eekmMQis4D+amZmZmZnhPxsv3SQGgeE/fT81XrpJ5D+amZmZmZnhP8ZLN4lBYOE/Di2yne+n3j8bL90kBoHhP5ZDi2zn++E/bef7qfHS4T+mm8QgsHLgP7x0kxgEVuI/fT81XrpJ4D+28/3UeOneP4/C9Shcj+I/FK5H4XoU4j/NzMzMzMzgP6AaL90kBuE/dJMYBFYO4T/LoUW28/3gP5MYBFYOLeI/9P3UeOkm4T+28/3UeOneP5MYBFYOLeI/rBxaZDvf3z/GSzeJQWDdP1TjpZvEIOA/bxKDwMqh4T8pXI/C9SjgP8l2vp8aL+E/xks3iUFg4T/VeOkmMQjgP3sUrkfheuA/yXa+nxov4T+cxCCwcmjhP8uhRbbz/eA/xks3iUFg4T+6SQwCK4fiP53vp8ZLN+E/+n5qvHST4D/GSzeJQWDhPwrXo3A9Ct8/H4XrUbge4T/EILByaJHhP+XQItv5fuI/9P3UeOkm4T+6SQwCK4fiP9Ei2/l+auA/zczMzMzM4D81XrpJDALjPz0K16NwPeI/GARWDi2y4T/l0CLb+X7iPxbZzvdT4+E/YOXQItv54j/Xo3A9CtfjPxSuR+F6FOI/I9v5fmq84D8pXI/C9SjgP1g5tMh2vt8/DQIrhxbZ3j/P91PjpZvgP2iR7Xw/NeI/WDm0yHa+3z/o+6nx0k3iPxFYObTIdt4/xSCwcmiR3T8hsHJoke3gPwaBlUOLbN8/arx0kxgE4j86tMh2vp/iPycxCKwcWuA/PQrXo3A94j+wcmiR7XzjPw==",
          "dtype": "f8"
         },
         "yaxis": "y"
        },
        {
         "line": {
          "color": "gray",
          "dash": "dash"
         },
         "mode": "lines",
         "name": "actual = expected",
         "type": "scatter",
         "x": [
          0.46,
          0.61
         ],
         "y": [
          0.46,
          0.61
         ]
        }
       ],
       "layout": {
        "height": 600,
        "legend": {
         "tracegroupgap": 0
        },
        "template": {
         "data": {
          "bar": [
           {
            "error_x": {
             "color": "#2a3f5f"
            },
            "error_y": {
             "color": "#2a3f5f"
            },
            "marker": {
             "line": {
              "color": "white",
              "width": 0.5
             },
             "pattern": {
              "fillmode": "overlay",
              "size": 10,
              "solidity": 0.2
             }
            },
            "type": "bar"
           }
          ],
          "barpolar": [
           {
            "marker": {
             "line": {
              "color": "white",
              "width": 0.5
             },
             "pattern": {
              "fillmode": "overlay",
              "size": 10,
              "solidity": 0.2
             }
            },
            "type": "barpolar"
           }
          ],
          "carpet": [
           {
            "aaxis": {
             "endlinecolor": "#2a3f5f",
             "gridcolor": "#C8D4E3",
             "linecolor": "#C8D4E3",
             "minorgridcolor": "#C8D4E3",
             "startlinecolor": "#2a3f5f"
            },
            "baxis": {
             "endlinecolor": "#2a3f5f",
             "gridcolor": "#C8D4E3",
             "linecolor": "#C8D4E3",
             "minorgridcolor": "#C8D4E3",
             "startlinecolor": "#2a3f5f"
            },
            "type": "carpet"
           }
          ],
          "choropleth": [
           {
            "colorbar": {
             "outlinewidth": 0,
             "ticks": ""
            },
            "type": "choropleth"
           }
          ],
          "contour": [
           {
            "colorbar": {
             "outlinewidth": 0,
             "ticks": ""
            },
            "colorscale": [
             [
              0,
              "#0d0887"
             ],
             [
              0.1111111111111111,
              "#46039f"
             ],
             [
              0.2222222222222222,
              "#7201a8"
             ],
             [
              0.3333333333333333,
              "#9c179e"
             ],
             [
              0.4444444444444444,
              "#bd3786"
             ],
             [
              0.5555555555555556,
              "#d8576b"
             ],
             [
              0.6666666666666666,
              "#ed7953"
             ],
             [
              0.7777777777777778,
              "#fb9f3a"
             ],
             [
              0.8888888888888888,
              "#fdca26"
             ],
             [
              1,
              "#f0f921"
             ]
            ],
            "type": "contour"
           }
          ],
          "contourcarpet": [
           {
            "colorbar": {
             "outlinewidth": 0,
             "ticks": ""
            },
            "type": "contourcarpet"
           }
          ],
          "heatmap": [
           {
            "colorbar": {
             "outlinewidth": 0,
             "ticks": ""
            },
            "colorscale": [
             [
              0,
              "#0d0887"
             ],
             [
              0.1111111111111111,
              "#46039f"
             ],
             [
              0.2222222222222222,
              "#7201a8"
             ],
             [
              0.3333333333333333,
              "#9c179e"
             ],
             [
              0.4444444444444444,
              "#bd3786"
             ],
             [
              0.5555555555555556,
              "#d8576b"
             ],
             [
              0.6666666666666666,
              "#ed7953"
             ],
             [
              0.7777777777777778,
              "#fb9f3a"
             ],
             [
              0.8888888888888888,
              "#fdca26"
             ],
             [
              1,
              "#f0f921"
             ]
            ],
            "type": "heatmap"
           }
          ],
          "histogram": [
           {
            "marker": {
             "pattern": {
              "fillmode": "overlay",
              "size": 10,
              "solidity": 0.2
             }
            },
            "type": "histogram"
           }
          ],
          "histogram2d": [
           {
            "colorbar": {
             "outlinewidth": 0,
             "ticks": ""
            },
            "colorscale": [
             [
              0,
              "#0d0887"
             ],
             [
              0.1111111111111111,
              "#46039f"
             ],
             [
              0.2222222222222222,
              "#7201a8"
             ],
             [
              0.3333333333333333,
              "#9c179e"
             ],
             [
              0.4444444444444444,
              "#bd3786"
             ],
             [
              0.5555555555555556,
              "#d8576b"
             ],
             [
              0.6666666666666666,
              "#ed7953"
             ],
             [
              0.7777777777777778,
              "#fb9f3a"
             ],
             [
              0.8888888888888888,
              "#fdca26"
             ],
             [
              1,
              "#f0f921"
             ]
            ],
            "type": "histogram2d"
           }
          ],
          "histogram2dcontour": [
           {
            "colorbar": {
             "outlinewidth": 0,
             "ticks": ""
            },
            "colorscale": [
             [
              0,
              "#0d0887"
             ],
             [
              0.1111111111111111,
              "#46039f"
             ],
             [
              0.2222222222222222,
              "#7201a8"
             ],
             [
              0.3333333333333333,
              "#9c179e"
             ],
             [
              0.4444444444444444,
              "#bd3786"
             ],
             [
              0.5555555555555556,
              "#d8576b"
             ],
             [
              0.6666666666666666,
              "#ed7953"
             ],
             [
              0.7777777777777778,
              "#fb9f3a"
             ],
             [
              0.8888888888888888,
              "#fdca26"
             ],
             [
              1,
              "#f0f921"
             ]
            ],
            "type": "histogram2dcontour"
           }
          ],
          "mesh3d": [
           {
            "colorbar": {
             "outlinewidth": 0,
             "ticks": ""
            },
            "type": "mesh3d"
           }
          ],
          "parcoords": [
           {
            "line": {
             "colorbar": {
              "outlinewidth": 0,
              "ticks": ""
             }
            },
            "type": "parcoords"
           }
          ],
          "pie": [
           {
            "automargin": true,
            "type": "pie"
           }
          ],
          "scatter": [
           {
            "fillpattern": {
             "fillmode": "overlay",
             "size": 10,
             "solidity": 0.2
            },
            "type": "scatter"
           }
          ],
          "scatter3d": [
           {
            "line": {
             "colorbar": {
              "outlinewidth": 0,
              "ticks": ""
             }
            },
            "marker": {
             "colorbar": {
              "outlinewidth": 0,
              "ticks": ""
             }
            },
            "type": "scatter3d"
           }
          ],
          "scattercarpet": [
           {
            "marker": {
             "colorbar": {
              "outlinewidth": 0,
              "ticks": ""
             }
            },
            "type": "scattercarpet"
           }
          ],
          "scattergeo": [
           {
            "marker": {
             "colorbar": {
              "outlinewidth": 0,
              "ticks": ""
             }
            },
            "type": "scattergeo"
           }
          ],
          "scattergl": [
           {
            "marker": {
             "colorbar": {
              "outlinewidth": 0,
              "ticks": ""
             }
            },
            "type": "scattergl"
           }
          ],
          "scattermap": [
           {
            "marker": {
             "colorbar": {
              "outlinewidth": 0,
              "ticks": ""
             }
            },
            "type": "scattermap"
           }
          ],
          "scattermapbox": [
           {
            "marker": {
             "colorbar": {
              "outlinewidth": 0,
              "ticks": ""
             }
            },
            "type": "scattermapbox"
           }
          ],
          "scatterpolar": [
           {
            "marker": {
             "colorbar": {
              "outlinewidth": 0,
              "ticks": ""
             }
            },
            "type": "scatterpolar"
           }
          ],
          "scatterpolargl": [
           {
            "marker": {
             "colorbar": {
              "outlinewidth": 0,
              "ticks": ""
             }
            },
            "type": "scatterpolargl"
           }
          ],
          "scatterternary": [
           {
            "marker": {
             "colorbar": {
              "outlinewidth": 0,
              "ticks": ""
             }
            },
            "type": "scatterternary"
           }
          ],
          "surface": [
           {
            "colorbar": {
             "outlinewidth": 0,
             "ticks": ""
            },
            "colorscale": [
             [
              0,
              "#0d0887"
             ],
             [
              0.1111111111111111,
              "#46039f"
             ],
             [
              0.2222222222222222,
              "#7201a8"
             ],
             [
              0.3333333333333333,
              "#9c179e"
             ],
             [
              0.4444444444444444,
              "#bd3786"
             ],
             [
              0.5555555555555556,
              "#d8576b"
             ],
             [
              0.6666666666666666,
              "#ed7953"
             ],
             [
              0.7777777777777778,
              "#fb9f3a"
             ],
             [
              0.8888888888888888,
              "#fdca26"
             ],
             [
              1,
              "#f0f921"
             ]
            ],
            "type": "surface"
           }
          ],
          "table": [
           {
            "cells": {
             "fill": {
              "color": "#EBF0F8"
             },
             "line": {
              "color": "white"
             }
            },
            "header": {
             "fill": {
              "color": "#C8D4E3"
             },
             "line": {
              "color": "white"
             }
            },
            "type": "table"
           }
          ]
         },
         "layout": {
          "annotationdefaults": {
           "arrowcolor": "#2a3f5f",
           "arrowhead": 0,
           "arrowwidth": 1
          },
          "autotypenumbers": "strict",
          "coloraxis": {
           "colorbar": {
            "outlinewidth": 0,
            "ticks": ""
           }
          },
          "colorscale": {
           "diverging": [
            [
             0,
             "#8e0152"
            ],
            [
             0.1,
             "#c51b7d"
            ],
            [
             0.2,
             "#de77ae"
            ],
            [
             0.3,
             "#f1b6da"
            ],
            [
             0.4,
             "#fde0ef"
            ],
            [
             0.5,
             "#f7f7f7"
            ],
            [
             0.6,
             "#e6f5d0"
            ],
            [
             0.7,
             "#b8e186"
            ],
            [
             0.8,
             "#7fbc41"
            ],
            [
             0.9,
             "#4d9221"
            ],
            [
             1,
             "#276419"
            ]
           ],
           "sequential": [
            [
             0,
             "#0d0887"
            ],
            [
             0.1111111111111111,
             "#46039f"
            ],
            [
             0.2222222222222222,
             "#7201a8"
            ],
            [
             0.3333333333333333,
             "#9c179e"
            ],
            [
             0.4444444444444444,
             "#bd3786"
            ],
            [
             0.5555555555555556,
             "#d8576b"
            ],
            [
             0.6666666666666666,
             "#ed7953"
            ],
            [
             0.7777777777777778,
             "#fb9f3a"
            ],
            [
             0.8888888888888888,
             "#fdca26"
            ],
            [
             1,
             "#f0f921"
            ]
           ],
           "sequentialminus": [
            [
             0,
             "#0d0887"
            ],
            [
             0.1111111111111111,
             "#46039f"
            ],
            [
             0.2222222222222222,
             "#7201a8"
            ],
            [
             0.3333333333333333,
             "#9c179e"
            ],
            [
             0.4444444444444444,
             "#bd3786"
            ],
            [
             0.5555555555555556,
             "#d8576b"
            ],
            [
             0.6666666666666666,
             "#ed7953"
            ],
            [
             0.7777777777777778,
             "#fb9f3a"
            ],
            [
             0.8888888888888888,
             "#fdca26"
            ],
            [
             1,
             "#f0f921"
            ]
           ]
          },
          "colorway": [
           "#636efa",
           "#EF553B",
           "#00cc96",
           "#ab63fa",
           "#FFA15A",
           "#19d3f3",
           "#FF6692",
           "#B6E880",
           "#FF97FF",
           "#FECB52"
          ],
          "font": {
           "color": "#2a3f5f"
          },
          "geo": {
           "bgcolor": "white",
           "lakecolor": "white",
           "landcolor": "white",
           "showlakes": true,
           "showland": true,
           "subunitcolor": "#C8D4E3"
          },
          "hoverlabel": {
           "align": "left"
          },
          "hovermode": "closest",
          "mapbox": {
           "style": "light"
          },
          "paper_bgcolor": "white",
          "plot_bgcolor": "white",
          "polar": {
           "angularaxis": {
            "gridcolor": "#EBF0F8",
            "linecolor": "#EBF0F8",
            "ticks": ""
           },
           "bgcolor": "white",
           "radialaxis": {
            "gridcolor": "#EBF0F8",
            "linecolor": "#EBF0F8",
            "ticks": ""
           }
          },
          "scene": {
           "xaxis": {
            "backgroundcolor": "white",
            "gridcolor": "#DFE8F3",
            "gridwidth": 2,
            "linecolor": "#EBF0F8",
            "showbackground": true,
            "ticks": "",
            "zerolinecolor": "#EBF0F8"
           },
           "yaxis": {
            "backgroundcolor": "white",
            "gridcolor": "#DFE8F3",
            "gridwidth": 2,
            "linecolor": "#EBF0F8",
            "showbackground": true,
            "ticks": "",
            "zerolinecolor": "#EBF0F8"
           },
           "zaxis": {
            "backgroundcolor": "white",
            "gridcolor": "#DFE8F3",
            "gridwidth": 2,
            "linecolor": "#EBF0F8",
            "showbackground": true,
            "ticks": "",
            "zerolinecolor": "#EBF0F8"
           }
          },
          "shapedefaults": {
           "line": {
            "color": "#2a3f5f"
           }
          },
          "ternary": {
           "aaxis": {
            "gridcolor": "#DFE8F3",
            "linecolor": "#A2B1C6",
            "ticks": ""
           },
           "baxis": {
            "gridcolor": "#DFE8F3",
            "linecolor": "#A2B1C6",
            "ticks": ""
           },
           "bgcolor": "white",
           "caxis": {
            "gridcolor": "#DFE8F3",
            "linecolor": "#A2B1C6",
            "ticks": ""
           }
          },
          "title": {
           "x": 0.05
          },
          "xaxis": {
           "automargin": true,
           "gridcolor": "#EBF0F8",
           "linecolor": "#EBF0F8",
           "ticks": "",
           "title": {
            "standoff": 15
           },
           "zerolinecolor": "#EBF0F8",
           "zerolinewidth": 2
          },
          "yaxis": {
           "automargin": true,
           "gridcolor": "#EBF0F8",
           "linecolor": "#EBF0F8",
           "ticks": "",
           "title": {
            "standoff": 15
           },
           "zerolinecolor": "#EBF0F8",
           "zerolinewidth": 2
          }
         }
        },
        "title": {
         "text": "eFG% vs Shot Quality"
        },
        "width": 800,
        "xaxis": {
         "anchor": "y",
         "domain": [
          0,
          1
         ],
         "title": {
          "text": "Shot Quality (Expected eFG%)"
         }
        },
        "yaxis": {
         "anchor": "x",
         "domain": [
          0,
          1
         ],
         "title": {
          "text": "Actual eFG%"
         }
        }
       }
      }
     },
     "metadata": {},
     "output_type": "display_data"
    }
   ],
   "source": [
    "fig = px.scatter(\n",
    "    cleaned,\n",
    "    x='Shot Quality',\n",
    "    y='eFG%',\n",
    "    hover_name='Player',\n",
    "    title='eFG% vs Shot Quality',\n",
    "    labels={'Shot Quality': 'Shot Quality (Expected eFG%)', 'eFG%': 'Actual eFG%'},\n",
    "    width=800,\n",
    "    height=600\n",
    ")\n",
    "\n",
    "fig.add_trace(\n",
    "    go.Scatter(\n",
    "        x=[cleaned['Shot Quality'].min(), cleaned['Shot Quality'].max()],\n",
    "        y=[cleaned['Shot Quality'].min(), cleaned['Shot Quality'].max()],\n",
    "        mode='lines',\n",
    "        line=dict(dash='dash', color='gray'),\n",
    "        name='actual = expected'\n",
    "    )\n",
    ")\n",
    "\n",
    "fig.update_layout(template='plotly_white')\n",
    "fig.show()\n"
   ]
  },
  {
   "cell_type": "code",
   "execution_count": 32,
   "metadata": {},
   "outputs": [
    {
     "data": {
      "application/vnd.plotly.v1+json": {
       "config": {
        "plotlyServerURL": "https://plot.ly"
       },
       "data": [
        {
         "hovertemplate": "<b>%{hovertext}</b><br><br>Shot Quality (Expected eFG%)=%{x}<br>Gap (Actual eFG% - Expected eFG%)=%{y}<extra></extra>",
         "hovertext": [
          "Amen Thompson",
          "Andrew Nembhard",
          "Anfernee Simons",
          "Anthony Edwards",
          "Austin Reaves",
          "Bennedict Mathurin",
          "Bilal Coulibaly",
          "Bogdan Bogdanović",
          "Bradley Beal",
          "Brandin Podziemski",
          "Bub Carrington",
          "CJ McCollum",
          "Cade Cunningham",
          "Cason Wallace",
          "Chris Paul",
          "Christian Braun",
          "Coby White",
          "Collin Sexton",
          "D'Angelo Russell",
          "Damian Lillard",
          "Darius Garland",
          "Davion Mitchell",
          "De'Aaron Fox",
          "De'Andre Hunter",
          "DeMar DeRozan",
          "Dennis Schröder",
          "Derrick White",
          "Desmond Bane",
          "Devin Booker",
          "Devin Vassell",
          "Dillon Brooks",
          "Donovan Mitchell",
          "Donte DiVincenzo",
          "Dyson Daniels",
          "Fred VanVleet",
          "Gary Trent Jr.",
          "Gradey Dick",
          "Isaiah Collier",
          "Ja Morant",
          "Jalen Brunson",
          "Jalen Green",
          "Jalen Williams",
          "Jamal Murray",
          "James Harden",
          "Jaylen Brown",
          "Jayson Tatum",
          "Jordan Poole",
          "Josh Giddey",
          "Josh Green",
          "Josh Hart",
          "Jrue Holiday",
          "Kelly Oubre Jr.",
          "Kentavious Caldwell-Pope",
          "Keyonte George",
          "Klay Thompson",
          "Kyrie Irving",
          "Luguentz Dort",
          "Luka Dončić",
          "Malik Beasley",
          "Malik Monk",
          "Max Christie",
          "Max Strus",
          "Mikal Bridges",
          "Nickeil Alexander-Walker",
          "Norman Powell",
          "OG Anunoby",
          "Ochai Agbaji",
          "Payton Pritchard",
          "Quentin Grimes",
          "RJ Barrett",
          "Russell Westbrook",
          "Scoot Henderson",
          "Scottie Barnes",
          "Shaedon Sharpe",
          "Shai Gilgeous-Alexander",
          "Spencer Dinwiddie",
          "Stephen Curry",
          "Stephon Castle",
          "Terry Rozier",
          "Tim Hardaway Jr.",
          "Trae Young",
          "Tyler Herro",
          "Tyrese Haliburton",
          "Tyrese Maxey",
          "Tyus Jones",
          "Zach LaVine"
         ],
         "legendgroup": "",
         "marker": {
          "color": "#636efa",
          "symbol": "circle"
         },
         "mode": "markers",
         "name": "",
         "orientation": "v",
         "showlegend": false,
         "type": "scatter",
         "x": {
          "bdata": "7FG4HoXr4T9SuB6F61HgP1K4HoXrUeA/SOF6FK5H4T+kcD0K16PgP0jhehSuR+E/mpmZmZmZ4T+amZmZmZnhP6RwPQrXo+A/UrgehetR4D9SuB6F61HgP6RwPQrXo+A/UrgehetR4D89CtejcD3iP1K4HoXrUeA/4XoUrkfh4j+amZmZmZnhP1K4HoXrUeA/pHA9Ctej4D9I4XoUrkfhP/YoXI/C9eA/7FG4HoXr4T9SuB6F61HgP0jhehSuR+E/cT0K16Nw3T8AAAAAAADgP0jhehSuR+E/9ihcj8L14D9SuB6F61HgP/YoXI/C9eA/pHA9Ctej4D/2KFyPwvXgP5qZmZmZmeE/mpmZmZmZ4T9SuB6F61HgP/YoXI/C9eA/mpmZmZmZ4T/2KFyPwvXgP/YoXI/C9eA/UrgehetR4D/2KFyPwvXgP/YoXI/C9eA/UrgehetR4D9SuB6F61HgP6RwPQrXo+A/9ihcj8L14D9I4XoUrkfhP5qZmZmZmeE/PQrXo3A94j+PwvUoXI/iP0jhehSuR+E/7FG4HoXr4T9I4XoUrkfhPwAAAAAAAOA/9ihcj8L14D9SuB6F61HgP+xRuB6F6+E/UrgehetR4D/2KFyPwvXgP6RwPQrXo+A/SOF6FK5H4T89CtejcD3iP0jhehSuR+E/mpmZmZmZ4T/2KFyPwvXgP+F6FK5H4eI/hetRuB6F4z/2KFyPwvXgP+xRuB6F6+E/PQrXo3A94j/sUbgehevhP0jhehSuR+E/pHA9Ctej4D+amZmZmZnhP6RwPQrXo+A/UrgehetR4D+kcD0K16PgP+xRuB6F6+E/SOF6FK5H4T9I4XoUrkfhP1K4HoXrUeA/pHA9Ctej4D+kcD0K16PgP0jhehSuR+E/pHA9Ctej4D89CtejcD3iPw==",
          "dtype": "f8"
         },
         "xaxis": "x",
         "y": {
          "bdata": "gB6F61G4jj8AqvHSTWJwv8BJDAIrh4Y/gOkmMQisfD9A30+Nl26iPwB/arx0k5i/LIcW2c73s78AqvHSTWKQv/AmMQisHKo/4M73U+Olmz+gxCCwcmiRv4AUrkfheoQ/wEkMAiuHhj9gFK5H4XqUv5Bs5/up8aI/wEkMAiuHpj8AAAAAAAAAAEA3iUFg5aA/0KFFtvP9pL+A6SYxCKx8PwCq8dJNYqA/AH9qvHSTaL8AqvHSTWJwP0A3iUFg5aA/SAwCK4cWqT+gxCCwcmiRv3AUrkfheqQ/4FG4HoXroT/AHoXrUbiOPwCq8dJNYmA/ALTIdr6fij8AqvHSTWJQPyDfT42XbpI/gOkmMQisjL/gzvdT46Wbv9D5fmq8dKM/QLTIdr6fqr+YGARWDi2yv0C0yHa+n5q/0KFFtvP9pD+gmZmZmZmZv4DpJjEIrHw/QDeJQWDloD9A30+Nl26Cv4AUrkfhenS/gOkmMQisfD8AqvHSTWJwP+D5fmq8dJO/4M73U+Olm78AqvHSTWJQvwCr8dJNYmC/IC/dJAaBpb8Afmq8dJNoP8AehetRuI6/gBSuR+F6dD8ghxbZzvejPyDfT42XbpI/QLTIdr6fmj9ADAIrhxapP4DpJjEIrHy/wB6F61G4jr8Af2q8dJOYP6AehetRuJ4/AH5qvHSTaD/wfmq8dJOoP2A5tMh2vp+/oMQgsHJokb8I16NwPQq3PwAUrkfhenQ/oPHSTWIQqL8wXI/C9Sisv8BJDAIrh6a/2Pl+arx0o79gObTIdr6fv0AMAiuHFqk/gOkmMQisjL9AtMh2vp+qPxwv3SQGgbW/LIcW2c73s7/ASQwCK4eGv+D5fmq8dJO/YLx0kxgEpj9gObTIdr6vPyAEVg4tsp2/kJmZmZmZqT8whxbZzvejPw==",
          "dtype": "f8"
         },
         "yaxis": "y"
        },
        {
         "line": {
          "color": "gray",
          "dash": "dash"
         },
         "mode": "lines",
         "name": "y = 0",
         "type": "scatter",
         "x": [
          0.46,
          0.61
         ],
         "y": [
          0,
          0
         ]
        }
       ],
       "layout": {
        "height": 600,
        "legend": {
         "tracegroupgap": 0
        },
        "template": {
         "data": {
          "bar": [
           {
            "error_x": {
             "color": "#2a3f5f"
            },
            "error_y": {
             "color": "#2a3f5f"
            },
            "marker": {
             "line": {
              "color": "white",
              "width": 0.5
             },
             "pattern": {
              "fillmode": "overlay",
              "size": 10,
              "solidity": 0.2
             }
            },
            "type": "bar"
           }
          ],
          "barpolar": [
           {
            "marker": {
             "line": {
              "color": "white",
              "width": 0.5
             },
             "pattern": {
              "fillmode": "overlay",
              "size": 10,
              "solidity": 0.2
             }
            },
            "type": "barpolar"
           }
          ],
          "carpet": [
           {
            "aaxis": {
             "endlinecolor": "#2a3f5f",
             "gridcolor": "#C8D4E3",
             "linecolor": "#C8D4E3",
             "minorgridcolor": "#C8D4E3",
             "startlinecolor": "#2a3f5f"
            },
            "baxis": {
             "endlinecolor": "#2a3f5f",
             "gridcolor": "#C8D4E3",
             "linecolor": "#C8D4E3",
             "minorgridcolor": "#C8D4E3",
             "startlinecolor": "#2a3f5f"
            },
            "type": "carpet"
           }
          ],
          "choropleth": [
           {
            "colorbar": {
             "outlinewidth": 0,
             "ticks": ""
            },
            "type": "choropleth"
           }
          ],
          "contour": [
           {
            "colorbar": {
             "outlinewidth": 0,
             "ticks": ""
            },
            "colorscale": [
             [
              0,
              "#0d0887"
             ],
             [
              0.1111111111111111,
              "#46039f"
             ],
             [
              0.2222222222222222,
              "#7201a8"
             ],
             [
              0.3333333333333333,
              "#9c179e"
             ],
             [
              0.4444444444444444,
              "#bd3786"
             ],
             [
              0.5555555555555556,
              "#d8576b"
             ],
             [
              0.6666666666666666,
              "#ed7953"
             ],
             [
              0.7777777777777778,
              "#fb9f3a"
             ],
             [
              0.8888888888888888,
              "#fdca26"
             ],
             [
              1,
              "#f0f921"
             ]
            ],
            "type": "contour"
           }
          ],
          "contourcarpet": [
           {
            "colorbar": {
             "outlinewidth": 0,
             "ticks": ""
            },
            "type": "contourcarpet"
           }
          ],
          "heatmap": [
           {
            "colorbar": {
             "outlinewidth": 0,
             "ticks": ""
            },
            "colorscale": [
             [
              0,
              "#0d0887"
             ],
             [
              0.1111111111111111,
              "#46039f"
             ],
             [
              0.2222222222222222,
              "#7201a8"
             ],
             [
              0.3333333333333333,
              "#9c179e"
             ],
             [
              0.4444444444444444,
              "#bd3786"
             ],
             [
              0.5555555555555556,
              "#d8576b"
             ],
             [
              0.6666666666666666,
              "#ed7953"
             ],
             [
              0.7777777777777778,
              "#fb9f3a"
             ],
             [
              0.8888888888888888,
              "#fdca26"
             ],
             [
              1,
              "#f0f921"
             ]
            ],
            "type": "heatmap"
           }
          ],
          "histogram": [
           {
            "marker": {
             "pattern": {
              "fillmode": "overlay",
              "size": 10,
              "solidity": 0.2
             }
            },
            "type": "histogram"
           }
          ],
          "histogram2d": [
           {
            "colorbar": {
             "outlinewidth": 0,
             "ticks": ""
            },
            "colorscale": [
             [
              0,
              "#0d0887"
             ],
             [
              0.1111111111111111,
              "#46039f"
             ],
             [
              0.2222222222222222,
              "#7201a8"
             ],
             [
              0.3333333333333333,
              "#9c179e"
             ],
             [
              0.4444444444444444,
              "#bd3786"
             ],
             [
              0.5555555555555556,
              "#d8576b"
             ],
             [
              0.6666666666666666,
              "#ed7953"
             ],
             [
              0.7777777777777778,
              "#fb9f3a"
             ],
             [
              0.8888888888888888,
              "#fdca26"
             ],
             [
              1,
              "#f0f921"
             ]
            ],
            "type": "histogram2d"
           }
          ],
          "histogram2dcontour": [
           {
            "colorbar": {
             "outlinewidth": 0,
             "ticks": ""
            },
            "colorscale": [
             [
              0,
              "#0d0887"
             ],
             [
              0.1111111111111111,
              "#46039f"
             ],
             [
              0.2222222222222222,
              "#7201a8"
             ],
             [
              0.3333333333333333,
              "#9c179e"
             ],
             [
              0.4444444444444444,
              "#bd3786"
             ],
             [
              0.5555555555555556,
              "#d8576b"
             ],
             [
              0.6666666666666666,
              "#ed7953"
             ],
             [
              0.7777777777777778,
              "#fb9f3a"
             ],
             [
              0.8888888888888888,
              "#fdca26"
             ],
             [
              1,
              "#f0f921"
             ]
            ],
            "type": "histogram2dcontour"
           }
          ],
          "mesh3d": [
           {
            "colorbar": {
             "outlinewidth": 0,
             "ticks": ""
            },
            "type": "mesh3d"
           }
          ],
          "parcoords": [
           {
            "line": {
             "colorbar": {
              "outlinewidth": 0,
              "ticks": ""
             }
            },
            "type": "parcoords"
           }
          ],
          "pie": [
           {
            "automargin": true,
            "type": "pie"
           }
          ],
          "scatter": [
           {
            "fillpattern": {
             "fillmode": "overlay",
             "size": 10,
             "solidity": 0.2
            },
            "type": "scatter"
           }
          ],
          "scatter3d": [
           {
            "line": {
             "colorbar": {
              "outlinewidth": 0,
              "ticks": ""
             }
            },
            "marker": {
             "colorbar": {
              "outlinewidth": 0,
              "ticks": ""
             }
            },
            "type": "scatter3d"
           }
          ],
          "scattercarpet": [
           {
            "marker": {
             "colorbar": {
              "outlinewidth": 0,
              "ticks": ""
             }
            },
            "type": "scattercarpet"
           }
          ],
          "scattergeo": [
           {
            "marker": {
             "colorbar": {
              "outlinewidth": 0,
              "ticks": ""
             }
            },
            "type": "scattergeo"
           }
          ],
          "scattergl": [
           {
            "marker": {
             "colorbar": {
              "outlinewidth": 0,
              "ticks": ""
             }
            },
            "type": "scattergl"
           }
          ],
          "scattermap": [
           {
            "marker": {
             "colorbar": {
              "outlinewidth": 0,
              "ticks": ""
             }
            },
            "type": "scattermap"
           }
          ],
          "scattermapbox": [
           {
            "marker": {
             "colorbar": {
              "outlinewidth": 0,
              "ticks": ""
             }
            },
            "type": "scattermapbox"
           }
          ],
          "scatterpolar": [
           {
            "marker": {
             "colorbar": {
              "outlinewidth": 0,
              "ticks": ""
             }
            },
            "type": "scatterpolar"
           }
          ],
          "scatterpolargl": [
           {
            "marker": {
             "colorbar": {
              "outlinewidth": 0,
              "ticks": ""
             }
            },
            "type": "scatterpolargl"
           }
          ],
          "scatterternary": [
           {
            "marker": {
             "colorbar": {
              "outlinewidth": 0,
              "ticks": ""
             }
            },
            "type": "scatterternary"
           }
          ],
          "surface": [
           {
            "colorbar": {
             "outlinewidth": 0,
             "ticks": ""
            },
            "colorscale": [
             [
              0,
              "#0d0887"
             ],
             [
              0.1111111111111111,
              "#46039f"
             ],
             [
              0.2222222222222222,
              "#7201a8"
             ],
             [
              0.3333333333333333,
              "#9c179e"
             ],
             [
              0.4444444444444444,
              "#bd3786"
             ],
             [
              0.5555555555555556,
              "#d8576b"
             ],
             [
              0.6666666666666666,
              "#ed7953"
             ],
             [
              0.7777777777777778,
              "#fb9f3a"
             ],
             [
              0.8888888888888888,
              "#fdca26"
             ],
             [
              1,
              "#f0f921"
             ]
            ],
            "type": "surface"
           }
          ],
          "table": [
           {
            "cells": {
             "fill": {
              "color": "#EBF0F8"
             },
             "line": {
              "color": "white"
             }
            },
            "header": {
             "fill": {
              "color": "#C8D4E3"
             },
             "line": {
              "color": "white"
             }
            },
            "type": "table"
           }
          ]
         },
         "layout": {
          "annotationdefaults": {
           "arrowcolor": "#2a3f5f",
           "arrowhead": 0,
           "arrowwidth": 1
          },
          "autotypenumbers": "strict",
          "coloraxis": {
           "colorbar": {
            "outlinewidth": 0,
            "ticks": ""
           }
          },
          "colorscale": {
           "diverging": [
            [
             0,
             "#8e0152"
            ],
            [
             0.1,
             "#c51b7d"
            ],
            [
             0.2,
             "#de77ae"
            ],
            [
             0.3,
             "#f1b6da"
            ],
            [
             0.4,
             "#fde0ef"
            ],
            [
             0.5,
             "#f7f7f7"
            ],
            [
             0.6,
             "#e6f5d0"
            ],
            [
             0.7,
             "#b8e186"
            ],
            [
             0.8,
             "#7fbc41"
            ],
            [
             0.9,
             "#4d9221"
            ],
            [
             1,
             "#276419"
            ]
           ],
           "sequential": [
            [
             0,
             "#0d0887"
            ],
            [
             0.1111111111111111,
             "#46039f"
            ],
            [
             0.2222222222222222,
             "#7201a8"
            ],
            [
             0.3333333333333333,
             "#9c179e"
            ],
            [
             0.4444444444444444,
             "#bd3786"
            ],
            [
             0.5555555555555556,
             "#d8576b"
            ],
            [
             0.6666666666666666,
             "#ed7953"
            ],
            [
             0.7777777777777778,
             "#fb9f3a"
            ],
            [
             0.8888888888888888,
             "#fdca26"
            ],
            [
             1,
             "#f0f921"
            ]
           ],
           "sequentialminus": [
            [
             0,
             "#0d0887"
            ],
            [
             0.1111111111111111,
             "#46039f"
            ],
            [
             0.2222222222222222,
             "#7201a8"
            ],
            [
             0.3333333333333333,
             "#9c179e"
            ],
            [
             0.4444444444444444,
             "#bd3786"
            ],
            [
             0.5555555555555556,
             "#d8576b"
            ],
            [
             0.6666666666666666,
             "#ed7953"
            ],
            [
             0.7777777777777778,
             "#fb9f3a"
            ],
            [
             0.8888888888888888,
             "#fdca26"
            ],
            [
             1,
             "#f0f921"
            ]
           ]
          },
          "colorway": [
           "#636efa",
           "#EF553B",
           "#00cc96",
           "#ab63fa",
           "#FFA15A",
           "#19d3f3",
           "#FF6692",
           "#B6E880",
           "#FF97FF",
           "#FECB52"
          ],
          "font": {
           "color": "#2a3f5f"
          },
          "geo": {
           "bgcolor": "white",
           "lakecolor": "white",
           "landcolor": "white",
           "showlakes": true,
           "showland": true,
           "subunitcolor": "#C8D4E3"
          },
          "hoverlabel": {
           "align": "left"
          },
          "hovermode": "closest",
          "mapbox": {
           "style": "light"
          },
          "paper_bgcolor": "white",
          "plot_bgcolor": "white",
          "polar": {
           "angularaxis": {
            "gridcolor": "#EBF0F8",
            "linecolor": "#EBF0F8",
            "ticks": ""
           },
           "bgcolor": "white",
           "radialaxis": {
            "gridcolor": "#EBF0F8",
            "linecolor": "#EBF0F8",
            "ticks": ""
           }
          },
          "scene": {
           "xaxis": {
            "backgroundcolor": "white",
            "gridcolor": "#DFE8F3",
            "gridwidth": 2,
            "linecolor": "#EBF0F8",
            "showbackground": true,
            "ticks": "",
            "zerolinecolor": "#EBF0F8"
           },
           "yaxis": {
            "backgroundcolor": "white",
            "gridcolor": "#DFE8F3",
            "gridwidth": 2,
            "linecolor": "#EBF0F8",
            "showbackground": true,
            "ticks": "",
            "zerolinecolor": "#EBF0F8"
           },
           "zaxis": {
            "backgroundcolor": "white",
            "gridcolor": "#DFE8F3",
            "gridwidth": 2,
            "linecolor": "#EBF0F8",
            "showbackground": true,
            "ticks": "",
            "zerolinecolor": "#EBF0F8"
           }
          },
          "shapedefaults": {
           "line": {
            "color": "#2a3f5f"
           }
          },
          "ternary": {
           "aaxis": {
            "gridcolor": "#DFE8F3",
            "linecolor": "#A2B1C6",
            "ticks": ""
           },
           "baxis": {
            "gridcolor": "#DFE8F3",
            "linecolor": "#A2B1C6",
            "ticks": ""
           },
           "bgcolor": "white",
           "caxis": {
            "gridcolor": "#DFE8F3",
            "linecolor": "#A2B1C6",
            "ticks": ""
           }
          },
          "title": {
           "x": 0.05
          },
          "xaxis": {
           "automargin": true,
           "gridcolor": "#EBF0F8",
           "linecolor": "#EBF0F8",
           "ticks": "",
           "title": {
            "standoff": 15
           },
           "zerolinecolor": "#EBF0F8",
           "zerolinewidth": 2
          },
          "yaxis": {
           "automargin": true,
           "gridcolor": "#EBF0F8",
           "linecolor": "#EBF0F8",
           "ticks": "",
           "title": {
            "standoff": 15
           },
           "zerolinecolor": "#EBF0F8",
           "zerolinewidth": 2
          }
         }
        },
        "title": {
         "text": "Gap vs Shot Quality"
        },
        "width": 800,
        "xaxis": {
         "anchor": "y",
         "domain": [
          0,
          1
         ],
         "title": {
          "text": "Shot Quality (Expected eFG%)"
         }
        },
        "yaxis": {
         "anchor": "x",
         "domain": [
          0,
          1
         ],
         "title": {
          "text": "Gap (Actual eFG% - Expected eFG%)"
         }
        }
       }
      }
     },
     "metadata": {},
     "output_type": "display_data"
    }
   ],
   "source": [
    "fig = px.scatter(\n",
    "    cleaned,\n",
    "    x='Shot Quality',\n",
    "    y='Gap',\n",
    "    hover_name='Player',\n",
    "    title='Gap vs Shot Quality',\n",
    "    labels={'Shot Quality': 'Shot Quality (Expected eFG%)', 'Gap': 'Gap (Actual eFG% - Expected eFG%)'},\n",
    "    width=800,\n",
    "    height=600\n",
    ")\n",
    "\n",
    "# Add y = 0 reference line (players above = outperforming shot quality)\n",
    "fig.add_trace(\n",
    "    go.Scatter(\n",
    "        x=[cleaned['Shot Quality'].min(), cleaned['Shot Quality'].max()],\n",
    "        y=[0, 0],\n",
    "        mode='lines',\n",
    "        line=dict(dash='dash', color='gray'),\n",
    "        name='y = 0'\n",
    "    )\n",
    ")\n",
    "\n",
    "fig.update_layout(template='plotly_white')\n",
    "fig.show()"
   ]
  },
  {
   "cell_type": "code",
   "execution_count": null,
   "metadata": {},
   "outputs": [],
   "source": []
  }
 ],
 "metadata": {
  "kernelspec": {
   "display_name": "Python 3",
   "language": "python",
   "name": "python3"
  },
  "language_info": {
   "codemirror_mode": {
    "name": "ipython",
    "version": 3
   },
   "file_extension": ".py",
   "mimetype": "text/x-python",
   "name": "python",
   "nbconvert_exporter": "python",
   "pygments_lexer": "ipython3",
   "version": "3.12.3"
  }
 },
 "nbformat": 4,
 "nbformat_minor": 2
}
